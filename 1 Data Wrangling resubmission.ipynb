{
 "cells": [
  {
   "cell_type": "code",
   "execution_count": 1,
   "metadata": {},
   "outputs": [],
   "source": [
    "import pandas as pd\n",
    "import numpy as np\n",
    "import matplotlib.pyplot as plt"
   ]
  },
  {
   "cell_type": "markdown",
   "metadata": {},
   "source": [
    "# Data Import"
   ]
  },
  {
   "cell_type": "markdown",
   "metadata": {},
   "source": [
    "This part prepares extra data for my main dataset with physician info. \n",
    "This one adds data on how many drugs each physician prescribes (prescribed in 2018).\n",
    "Note that this data is aggregated and can be added only after the main dataset is aggregated,so that each row represents a unique physician"
   ]
  },
  {
   "cell_type": "code",
   "execution_count": 2,
   "metadata": {},
   "outputs": [
    {
     "name": "stdout",
     "output_type": "stream",
     "text": [
      "          npi nppes_provider_last_org_name nppes_provider_first_name  \\\n",
      "0  1003000126                    ENKESHAFI                   ARDALAN   \n",
      "1  1003000142                       KHALIL                    RASHID   \n",
      "2  1003000167                      ESCOBAR                     JULIO   \n",
      "3  1003000282                    BLAKEMORE                     ROSIE   \n",
      "4  1003000407                      GIRARDI                     DAVID   \n",
      "\n",
      "  nppes_provider_mi nppes_credentials nppes_provider_gender nppes_entity_code  \\\n",
      "0               NaN              M.D.                     M                 I   \n",
      "1               NaN              M.D.                     M                 I   \n",
      "2                 E               DDS                     M                 I   \n",
      "3                 K               FNP                     F                 I   \n",
      "4                 J              D.O.                     M                 I   \n",
      "\n",
      "       nppes_provider_street1 nppes_provider_street2 nppes_provider_city  ...  \\\n",
      "0                900 SETON DR                    NaN          CUMBERLAND  ...   \n",
      "1  4126 N HOLLAND SYLVANIA RD              SUITE 220              TOLEDO  ...   \n",
      "2              5 PINE CONE RD                    NaN              DAYTON  ...   \n",
      "3  TENNESSEE PRISON FOR WOMEN     3881 STEWARTS LANE           NASHVILLE  ...   \n",
      "4             100 HOSPITAL RD                    NaN          BROOKVILLE  ...   \n",
      "\n",
      "   beneficiary_male_count  beneficiary_race_white_count  \\\n",
      "0                    60.0                         153.0   \n",
      "1                   100.0                         201.0   \n",
      "2                    19.0                           NaN   \n",
      "3                     NaN                           NaN   \n",
      "4                    35.0                           NaN   \n",
      "\n",
      "  beneficiary_race_black_count beneficiary_race_asian_pi_count  \\\n",
      "0                         11.0                             0.0   \n",
      "1                         96.0                             NaN   \n",
      "2                          0.0                             0.0   \n",
      "3                          NaN                             NaN   \n",
      "4                          0.0                             NaN   \n",
      "\n",
      "  beneficiary_race_hispanic_count beneficiary_race_nat_ind_count  \\\n",
      "0                             0.0                            0.0   \n",
      "1                             NaN                            0.0   \n",
      "2                             NaN                            0.0   \n",
      "3                             NaN                            NaN   \n",
      "4                             NaN                            0.0   \n",
      "\n",
      "  beneficiary_race_other_count  beneficiary_nondual_count  \\\n",
      "0                          0.0                      110.0   \n",
      "1                          NaN                      139.0   \n",
      "2                          0.0                        NaN   \n",
      "3                          NaN                        NaN   \n",
      "4                          NaN                       63.0   \n",
      "\n",
      "   beneficiary_dual_count  beneficiary_average_risk_score  \n",
      "0                    54.0                          2.6899  \n",
      "1                   186.0                          1.9032  \n",
      "2                     NaN                          1.0636  \n",
      "3                     NaN                             NaN  \n",
      "4                    51.0                          2.2961  \n",
      "\n",
      "[5 rows x 84 columns]\n",
      "          npi  total_claim_count  total_drug_cost\n",
      "0  1003000126                492         27744.26\n",
      "1  1003000142               1818        124220.94\n",
      "2  1003000167                 77           502.88\n",
      "3  1003000282                100          5132.53\n",
      "4  1003000407               2766        118165.29\n",
      "(1204935, 2)\n",
      "            total_claim_count  total_drug_cost\n",
      "npi                                           \n",
      "1003000126                492         27744.26\n",
      "1003000142               1818        124220.94\n",
      "1003000167                 77           502.88\n",
      "1003000282                100          5132.53\n",
      "1003000407               2766        118165.29\n"
     ]
    }
   ],
   "source": [
    "\n",
    "\n",
    "#getting prescriptions data from CMS\n",
    "df = pd.read_csv(r'D:/PartD_Prescriber_PUF_NPI_18.txt',sep='\\t',header=(0))\n",
    "print(df.head())\n",
    "#selecting only the columns we need - how many drugs prescribed and total cost\n",
    "df = df [['npi','total_claim_count','total_drug_cost']]\n",
    "print(df.head())\n",
    "#summarizing data by provider\n",
    "df = df.groupby('npi').sum()\n",
    "print(df.shape)\n",
    "print(df.head())\n",
    "# saving dataset to push it my SQL server\n",
    "df.to_csv('D:/Data Repo/Mila/2018_prescriptions_summary_data.csv')"
   ]
  },
  {
   "cell_type": "markdown",
   "metadata": {},
   "source": [
    "This part creates the main dataset with physician info for each impression in 2020 by connecting to the SQL server\n",
    "and running the query below. To calculate the target variable, the amount of money each prescriber 'earned' for the company, this data set needs to be aggregated by npi."
   ]
  },
  {
   "cell_type": "code",
   "execution_count": 12,
   "metadata": {},
   "outputs": [
    {
     "name": "stdout",
     "output_type": "stream",
     "text": [
      "          npi          first_name last_name gender address       city state  \\\n",
      "0  1316146061  Florello Sven-Erik  Quianzon    N/A     N/A  SKOWHEGAN    ME   \n",
      "1  1316146061  Florello Sven-Erik  Quianzon    N/A     N/A  SKOWHEGAN    ME   \n",
      "2  1316146061  Florello Sven-Erik  Quianzon    N/A     N/A  SKOWHEGAN    ME   \n",
      "3  1316146061  Florello Sven-Erik  Quianzon    N/A     N/A  SKOWHEGAN    ME   \n",
      "4  1316146061  Florello Sven-Erik  Quianzon    N/A     N/A  SKOWHEGAN    ME   \n",
      "\n",
      "  zipcode sole_proprietor medicare_ind  ...   cbm_id publicationid  \\\n",
      "0   04976               N            N  ...  5094890           CCF   \n",
      "1   04976               N            N  ...  5094890           CCF   \n",
      "2   04976               N            N  ...  5094890           CCF   \n",
      "3   04976               N            N  ...  5094890           CCF   \n",
      "4   04976               N            N  ...  5094890           CCF   \n",
      "\n",
      "   is_pii_enabled  hospital_city hospital_state hospital_zip  \\\n",
      "0         b'\\x01'      Skowhegan             ME         4976   \n",
      "1         b'\\x01'      Skowhegan             ME         4976   \n",
      "2         b'\\x01'      Skowhegan             ME         4976   \n",
      "3         b'\\x01'      Skowhegan             ME         4976   \n",
      "4         b'\\x01'      Skowhegan             ME         4976   \n",
      "\n",
      "  hospital_latitude  hospital_longitude hospital_size  \\\n",
      "0           44.7589            -69.7131         Small   \n",
      "1           44.7589            -69.7131         Small   \n",
      "2           44.7589            -69.7131         Small   \n",
      "3           44.7589            -69.7131         Small   \n",
      "4           44.7589            -69.7131         Small   \n",
      "\n",
      "   hospital_system_membership  \n",
      "0                              \n",
      "1                              \n",
      "2                              \n",
      "3                              \n",
      "4                              \n",
      "\n",
      "[5 rows x 31 columns]\n",
      "(50000, 31)\n"
     ]
    }
   ],
   "source": [
    "#TO DO BEFORE SUBMISSION - REMOVE CREDENTIALS\n",
    "import pandas as pd\n",
    "from sqlalchemy import create_engine\n",
    "engine = create_engine(\n",
    "    \"credentials hidden\",\n",
    ")\n",
    "\n",
    "QUERY = \"\"\"\n",
    "SELECT\n",
    "m.npi AS 'npi', \n",
    "r.first_name AS first_name,\n",
    "r.last_name AS last_name,\n",
    "IFNULL(r.gender, 'N/A') AS gender,\n",
    "IFNULL(r. address1, 'N/A') AS address,\n",
    "IFNULL(r.city, 'N/A') AS city,\n",
    "r.state AS state,\n",
    "LEFT(r.zipcode,5) AS zipcode,\n",
    "r. sole_proprietor_ind AS sole_proprietor,\n",
    "r.medicare_ind, \n",
    "medicaid_ind,\n",
    "t.name AS 'specialty',\n",
    "total_procedures,\n",
    "distinct_procedures,\n",
    "institution,\n",
    "derived_specialty_list,\n",
    "event_ts,\n",
    "adiolineitemid,\n",
    "li.costperdrop,\n",
    "dropsize,\n",
    "costperdrop/dropsize as impression_cost,\n",
    "r.cbm_id,\n",
    "CASE client_key\t\t\t\t\n",
    "\tWHEN 'AMAEXPAND'\t\t\t\n",
    "\t\tTHEN 'AMA'\t\t\n",
    "\tWHEN 'RDBDMD'\t\t\t\n",
    "\t\tTHEN 'RDB'\t\t\n",
    "\tWHEN 'NEUROCCF'\t\t\t\n",
    "\t\tTHEN 'NEURO'\t\t\n",
    "\tWHEN 'NEURODMD'\t\t\t\n",
    "\t\tTHEN 'NEURO'\t\t\n",
    "\tWHEN 'CCRADIODMD'\t\t\t\n",
    "\t\tTHEN 'CCRADIO'\t\t\n",
    "\tWHEN 'CCENDODMD'\t\t\t\n",
    "\t\tTHEN 'CCENDO'\t\t\n",
    "\tWHEN 'DENTALRD'\t\t\t\n",
    "\t\tTHEN 'DENTAL'\t\t\n",
    "\tWHEN 'DENTALDMD'\t\t\t\n",
    "\t\tTHEN 'DENTAL'\t\t\n",
    "\tWHEN 'DENTALHEALTHLINK'\t\t\t\n",
    "\t\tTHEN 'DENTAL'\t\t\n",
    "\tELSE client_key\t\t\t\n",
    "\tEND AS 'publicationid',\n",
    "clients.is_pii_enabled,\n",
    "h.city AS hospital_city, \n",
    "h.state AS hospital_state,\n",
    "LEFT(h.zipcode,5) as hospital_zip,\n",
    "h.latitude AS hospital_latitude,\n",
    "h.longitude AS hospital_longitude,\n",
    "h.hospital_size AS hospital_size,\n",
    "h.system_member AS hospital_system_membership\n",
    "\n",
    "FROM research.ad_io_line_item_drop_event e \n",
    "\t\tINNER JOIN research.adiolineitemdrop d ON (e.ad_io_line_item_drop_id = d.adiolineitemdropid)\n",
    "\t\tINNER JOIN research.adiolineitem li USING(adiolineitemid)\n",
    "\t\tINNER JOIN\n",
    "\t\tresearch.recipients r ON (e.recipient_id = r.cbm_id)\n",
    "\t\tINNER JOIN\n",
    "\t\tresearch.clients USING(client_id)\n",
    "\t\tINNER JOIN\n",
    "\t\tresearch.recipientmatch m ON (r.cbm_id = m.cbm_id AND total_score >= 65)\n",
    "        LEFT JOIN  research.npitaxonomy USING (npi)\n",
    "\t\tLEFT JOIN  research.taxonomy t ON (npitaxonomy.taxonomy_code = t.code)\n",
    "        LEFT JOIN temp_darcy.hospital_affiliation USING(npi)\n",
    "        LEFT JOIN temp_darcy.hospital h USING(ccn)\n",
    "        LEFT JOIN (SELECT npi, count(procedure_name) AS total_procedures, count(distinct procedure_name) AS distinct_procedures\n",
    "\t\t\t\t\tFROM temp_darcy.procedures\n",
    "\t\t\t\t\tGROUP BY npi) as procedures USING (npi)\n",
    "\n",
    "\tWHERE runstatus = 'Y'\n",
    "\tAND date(event_ts) BETWEEN '2020-01-01' AND '2020-03-01'\n",
    "    AND dropsize > 0\n",
    "    AND costperdrop > 0\n",
    "    LIMIT 200000\n",
    "\"\"\"\n",
    "\n",
    "with engine.connect() as con:\n",
    "    rs = con.execute(QUERY)\n",
    "    df_main = pd.DataFrame(rs.fetchall()) #fetchall() lists all results\n",
    "    df_main.columns = rs.keys()\n",
    "    con.close()\n",
    "print(df_main.head())\n",
    "print(df_main.shape)"
   ]
  },
  {
   "cell_type": "code",
   "execution_count": 16,
   "metadata": {},
   "outputs": [],
   "source": [
    "#saving the dataframe so we don't have to fetch it every time\n",
    "df_main.to_csv('C:/Users/emich/Google Drive/Data science/Capstone 3/Data/Data_main.csv', index=False)"
   ]
  },
  {
   "cell_type": "markdown",
   "metadata": {},
   "source": [
    "# Combining Datasets"
   ]
  },
  {
   "cell_type": "code",
   "execution_count": 43,
   "metadata": {},
   "outputs": [],
   "source": [
    "df_main = pd.read_csv(r'C:/Users/emich/Google Drive/Data science/Capstone 3/Data/Data_main.csv')"
   ]
  },
  {
   "cell_type": "code",
   "execution_count": 44,
   "metadata": {},
   "outputs": [
    {
     "name": "stdout",
     "output_type": "stream",
     "text": [
      "          npi first_name last_name gender address       city state zipcode  \\\n",
      "0  1518226661       Ryan  Sychterz      M     NaN        BOW    NH   03304   \n",
      "1  1518226661       Ryan  Sychterz      M     NaN        BOW    NH   03304   \n",
      "2  1942444237      Sarah      Finn    NaN     NaN  NEWFIELDS    NH   03856   \n",
      "3  1942444237      Sarah      Finn    NaN     NaN  NEWFIELDS    NH   03856   \n",
      "4  1942444237      Sarah      Finn    NaN     NaN  NEWFIELDS    NH   03856   \n",
      "\n",
      "  sole_proprietor medicare_ind  ...   cbm_id publicationid  is_pii_enabled  \\\n",
      "0               N            N  ...  5918490         SEMPA         b'\\x01'   \n",
      "1               N            N  ...  5918490         SEMPA         b'\\x01'   \n",
      "2               N            N  ...  5753963           AMA         b'\\x00'   \n",
      "3               N            N  ...  5753963           AMA         b'\\x00'   \n",
      "4               N            N  ...  5753963           AMA         b'\\x00'   \n",
      "\n",
      "   hospital_city hospital_state hospital_zip hospital_latitude  \\\n",
      "0        Concord             NH       3301.0           43.1971   \n",
      "1        Concord             NH       3301.0           43.1971   \n",
      "2        Lebanon             NH       3756.0           43.6760   \n",
      "3        Lebanon             NH       3756.0           43.6760   \n",
      "4        Lebanon             NH       3756.0           43.6760   \n",
      "\n",
      "   hospital_longitude  hospital_size  hospital_system_membership  \n",
      "0             -71.561         Medium                         NaN  \n",
      "1             -71.561         Medium                         NaN  \n",
      "2             -72.273          Large                         NaN  \n",
      "3             -72.273          Large                         NaN  \n",
      "4             -72.273          Large                         NaN  \n",
      "\n",
      "[5 rows x 31 columns]\n",
      "(200000, 31)\n"
     ]
    }
   ],
   "source": [
    "print(df_main.head())\n",
    "print (df_main.shape)"
   ]
  },
  {
   "cell_type": "code",
   "execution_count": 45,
   "metadata": {},
   "outputs": [
    {
     "name": "stdout",
     "output_type": "stream",
     "text": [
      "(13914, 3)\n",
      "          npi  money_generated  impressions_count\n",
      "0  1003000415         0.072093                  3\n",
      "1  1003011610         0.129176                 32\n",
      "2  1003012436         0.003150                  1\n",
      "3  1003012634         2.835712                 20\n",
      "4  1003015785         0.022761                  1\n"
     ]
    }
   ],
   "source": [
    "#from the main dataframe summarizing how much money each doctor generated by summing all impressions and \n",
    "#impression costs for each unique npi\n",
    "df_money = df_main.groupby('npi')['impression_cost'].sum().reset_index(name='money_generated')\n",
    "df_impressions = df_main.groupby('npi')['event_ts'].count().reset_index(name='impressions_count')\n",
    "df_money = pd.merge(df_money,df_impressions, on='npi')\n",
    "print(df_money.shape)\n",
    "print(df_money.head())"
   ]
  },
  {
   "cell_type": "code",
   "execution_count": 46,
   "metadata": {},
   "outputs": [
    {
     "name": "stdout",
     "output_type": "stream",
     "text": [
      "(13914, 33)\n",
      "           npi  money_generated  impressions_count first_name last_name  \\\n",
      "0   1003000415         0.072093                  3   Marshall   Webster   \n",
      "3   1003011610         0.129176                 32      Alaka       Ray   \n",
      "35  1003012436         0.003150                  1      Maged   Soliman   \n",
      "36  1003012634         2.835712                 20     Dunyue        Lu   \n",
      "56  1003015785         0.022761                  1       Ryan    Rogers   \n",
      "\n",
      "   gender               address         city state zipcode  ...   cbm_id  \\\n",
      "0     NaN                   NaN   PITTSBURGH    PA   15238  ...  1730358   \n",
      "3     NaN                   NaN  NEWTONVILLE    MA   02460  ...  6141181   \n",
      "35    NaN                   NaN        ISLIP    NY   11751  ...  6597601   \n",
      "36    NaN                   NaN         Troy    MI   48098  ...  5098997   \n",
      "56    NaN  31 North Main Street      Rutland    VT   05701  ...  6094117   \n",
      "\n",
      "   publicationid is_pii_enabled hospital_city  hospital_state  hospital_zip  \\\n",
      "0            AMA        b'\\x00'           NaN             NaN           NaN   \n",
      "3            AMA        b'\\x00'         Salem              MA        1970.0   \n",
      "35           AMA        b'\\x00'           NaN             NaN           NaN   \n",
      "36           APA        b'\\x00'     Royal Oak              MI       48073.0   \n",
      "56         MSSNY        b'\\x01'       Rutland              VT        5701.0   \n",
      "\n",
      "   hospital_latitude hospital_longitude hospital_size  \\\n",
      "0                NaN                NaN           NaN   \n",
      "3            42.5108           -70.9071        Medium   \n",
      "35               NaN                NaN           NaN   \n",
      "36           42.5177           -83.1936         Large   \n",
      "56           43.5983           -72.9551        Medium   \n",
      "\n",
      "    hospital_system_membership  \n",
      "0                          NaN  \n",
      "3                            Y  \n",
      "35                         NaN  \n",
      "36                           Y  \n",
      "56                         NaN  \n",
      "\n",
      "[5 rows x 33 columns]\n",
      "Index(['npi', 'money_generated', 'impressions_count', 'first_name',\n",
      "       'last_name', 'gender', 'address', 'city', 'state', 'zipcode',\n",
      "       'sole_proprietor', 'medicare_ind', 'medicaid_ind', 'specialty',\n",
      "       'total_procedures', 'distinct_procedures', 'institution',\n",
      "       'derived_specialty_list', 'event_ts', 'adiolineitemid', 'costperdrop',\n",
      "       'dropsize', 'impression_cost', 'cbm_id', 'publicationid',\n",
      "       'is_pii_enabled', 'hospital_city', 'hospital_state', 'hospital_zip',\n",
      "       'hospital_latitude', 'hospital_longitude', 'hospital_size',\n",
      "       'hospital_system_membership'],\n",
      "      dtype='object')\n"
     ]
    }
   ],
   "source": [
    "data = df_money.merge(df_main, how='left', on='npi')\n",
    "data.drop_duplicates(subset='npi',inplace=True)\n",
    "print(data.shape)\n",
    "print(data.head())\n",
    "print(data.columns)"
   ]
  },
  {
   "cell_type": "code",
   "execution_count": 47,
   "metadata": {},
   "outputs": [
    {
     "name": "stdout",
     "output_type": "stream",
     "text": [
      "          npi  total_claim_count  total_drug_cost\n",
      "0  1003000126                492         27744.26\n",
      "1  1003000142               1818        124220.94\n",
      "2  1003000167                 77           502.88\n",
      "3  1003000282                100          5132.53\n",
      "4  1003000407               2766        118165.29\n",
      "          npi  money_generated  impressions_count first_name last_name gender  \\\n",
      "0  1003000415         0.072093                  3   Marshall   Webster    NaN   \n",
      "1  1003011610         0.129176                 32      Alaka       Ray    NaN   \n",
      "2  1003012436         0.003150                  1      Maged   Soliman    NaN   \n",
      "3  1003012634         2.835712                 20     Dunyue        Lu    NaN   \n",
      "4  1003015785         0.022761                  1       Ryan    Rogers    NaN   \n",
      "\n",
      "                address         city state zipcode  ... is_pii_enabled  \\\n",
      "0                   NaN   PITTSBURGH    PA   15238  ...        b'\\x00'   \n",
      "1                   NaN  NEWTONVILLE    MA   02460  ...        b'\\x00'   \n",
      "2                   NaN        ISLIP    NY   11751  ...        b'\\x00'   \n",
      "3                   NaN         Troy    MI   48098  ...        b'\\x00'   \n",
      "4  31 North Main Street      Rutland    VT   05701  ...        b'\\x01'   \n",
      "\n",
      "  hospital_city hospital_state hospital_zip  hospital_latitude  \\\n",
      "0           NaN            NaN          NaN                NaN   \n",
      "1         Salem             MA       1970.0            42.5108   \n",
      "2           NaN            NaN          NaN                NaN   \n",
      "3     Royal Oak             MI      48073.0            42.5177   \n",
      "4       Rutland             VT       5701.0            43.5983   \n",
      "\n",
      "   hospital_longitude hospital_size hospital_system_membership  \\\n",
      "0                 NaN           NaN                        NaN   \n",
      "1            -70.9071        Medium                          Y   \n",
      "2                 NaN           NaN                        NaN   \n",
      "3            -83.1936         Large                          Y   \n",
      "4            -72.9551        Medium                        NaN   \n",
      "\n",
      "  total_claim_count  total_drug_cost  \n",
      "0               NaN              NaN  \n",
      "1            2238.0        183041.18  \n",
      "2             808.0         69750.23  \n",
      "3             130.0         12285.27  \n",
      "4             603.0         44920.21  \n",
      "\n",
      "[5 rows x 35 columns]\n"
     ]
    },
    {
     "data": {
      "text/plain": [
       "(13914, 35)"
      ]
     },
     "execution_count": 47,
     "metadata": {},
     "output_type": "execute_result"
    }
   ],
   "source": [
    "#Next step: merge prescriptions data\n",
    "prescriptions = pd.read_csv('D:/Data Repo/Mila/2018_prescriptions_summary_data.csv')\n",
    "print(prescriptions.head())\n",
    "prescriptions.shape\n",
    "\n",
    "data = data.merge(prescriptions, on='npi', how='left')\n",
    "print(data.head())\n",
    "data.shape\n"
   ]
  },
  {
   "cell_type": "markdown",
   "metadata": {},
   "source": [
    "# Data Cleansing"
   ]
  },
  {
   "cell_type": "code",
   "execution_count": 53,
   "metadata": {},
   "outputs": [
    {
     "data": {
      "text/plain": [
       "(13914, 27)"
      ]
     },
     "execution_count": 53,
     "metadata": {},
     "output_type": "execute_result"
    }
   ],
   "source": [
    "#getting rid of the columns that won't be useful:\n",
    "data.columns\n",
    "\n",
    "data = data[['npi', 'money_generated', 'impressions_count','gender', 'city', 'state', 'zipcode',\n",
    "       'sole_proprietor','specialty',\n",
    "       'total_procedures', 'distinct_procedures', 'institution',\n",
    "       'derived_specialty_list', 'event_ts','impression_cost', 'cbm_id', 'publicationid',\n",
    "       'is_pii_enabled', 'hospital_city', 'hospital_state', 'hospital_zip',\n",
    "       'hospital_latitude', 'hospital_longitude', 'hospital_size',\n",
    "       'hospital_system_membership', 'total_claim_count',\n",
    "       'total_drug_cost']]\n",
    "\n",
    "data.shape"
   ]
  },
  {
   "cell_type": "code",
   "execution_count": 54,
   "metadata": {},
   "outputs": [
    {
     "data": {
      "text/html": [
       "<div>\n",
       "<style scoped>\n",
       "    .dataframe tbody tr th:only-of-type {\n",
       "        vertical-align: middle;\n",
       "    }\n",
       "\n",
       "    .dataframe tbody tr th {\n",
       "        vertical-align: top;\n",
       "    }\n",
       "\n",
       "    .dataframe thead th {\n",
       "        text-align: right;\n",
       "    }\n",
       "</style>\n",
       "<table border=\"1\" class=\"dataframe\">\n",
       "  <thead>\n",
       "    <tr style=\"text-align: right;\">\n",
       "      <th></th>\n",
       "      <th>npi</th>\n",
       "      <th>money_generated</th>\n",
       "      <th>impressions_count</th>\n",
       "      <th>total_procedures</th>\n",
       "      <th>distinct_procedures</th>\n",
       "      <th>impression_cost</th>\n",
       "      <th>cbm_id</th>\n",
       "      <th>hospital_latitude</th>\n",
       "      <th>hospital_longitude</th>\n",
       "      <th>total_claim_count</th>\n",
       "      <th>total_drug_cost</th>\n",
       "    </tr>\n",
       "  </thead>\n",
       "  <tbody>\n",
       "    <tr>\n",
       "      <th>count</th>\n",
       "      <td>1.391400e+04</td>\n",
       "      <td>13914.000000</td>\n",
       "      <td>13914.000000</td>\n",
       "      <td>6074.000000</td>\n",
       "      <td>6074.000000</td>\n",
       "      <td>13914.000000</td>\n",
       "      <td>1.391400e+04</td>\n",
       "      <td>4844.000000</td>\n",
       "      <td>4844.000000</td>\n",
       "      <td>8929.000000</td>\n",
       "      <td>8.929000e+03</td>\n",
       "    </tr>\n",
       "    <tr>\n",
       "      <th>mean</th>\n",
       "      <td>1.495852e+09</td>\n",
       "      <td>0.801886</td>\n",
       "      <td>14.374012</td>\n",
       "      <td>52.125453</td>\n",
       "      <td>18.434969</td>\n",
       "      <td>0.045338</td>\n",
       "      <td>5.773646e+06</td>\n",
       "      <td>38.184568</td>\n",
       "      <td>-89.289734</td>\n",
       "      <td>1033.611491</td>\n",
       "      <td>1.548504e+05</td>\n",
       "    </tr>\n",
       "    <tr>\n",
       "      <th>std</th>\n",
       "      <td>2.864939e+08</td>\n",
       "      <td>6.159175</td>\n",
       "      <td>74.776296</td>\n",
       "      <td>62.869930</td>\n",
       "      <td>19.768780</td>\n",
       "      <td>0.059325</td>\n",
       "      <td>1.475171e+06</td>\n",
       "      <td>5.177444</td>\n",
       "      <td>16.156617</td>\n",
       "      <td>2656.972489</td>\n",
       "      <td>4.332643e+05</td>\n",
       "    </tr>\n",
       "    <tr>\n",
       "      <th>min</th>\n",
       "      <td>1.003000e+09</td>\n",
       "      <td>0.001534</td>\n",
       "      <td>1.000000</td>\n",
       "      <td>1.000000</td>\n",
       "      <td>1.000000</td>\n",
       "      <td>0.001515</td>\n",
       "      <td>1.537517e+06</td>\n",
       "      <td>13.463100</td>\n",
       "      <td>-161.787000</td>\n",
       "      <td>11.000000</td>\n",
       "      <td>2.209000e+01</td>\n",
       "    </tr>\n",
       "    <tr>\n",
       "      <th>25%</th>\n",
       "      <td>1.245636e+09</td>\n",
       "      <td>0.016601</td>\n",
       "      <td>2.000000</td>\n",
       "      <td>13.000000</td>\n",
       "      <td>6.000000</td>\n",
       "      <td>0.003489</td>\n",
       "      <td>5.000971e+06</td>\n",
       "      <td>34.200250</td>\n",
       "      <td>-95.623600</td>\n",
       "      <td>49.000000</td>\n",
       "      <td>8.513600e+02</td>\n",
       "    </tr>\n",
       "    <tr>\n",
       "      <th>50%</th>\n",
       "      <td>1.497196e+09</td>\n",
       "      <td>0.073613</td>\n",
       "      <td>4.000000</td>\n",
       "      <td>31.000000</td>\n",
       "      <td>12.000000</td>\n",
       "      <td>0.006496</td>\n",
       "      <td>6.099265e+06</td>\n",
       "      <td>39.772100</td>\n",
       "      <td>-84.363550</td>\n",
       "      <td>164.000000</td>\n",
       "      <td>8.203630e+03</td>\n",
       "    </tr>\n",
       "    <tr>\n",
       "      <th>75%</th>\n",
       "      <td>1.740414e+09</td>\n",
       "      <td>0.366000</td>\n",
       "      <td>10.000000</td>\n",
       "      <td>67.000000</td>\n",
       "      <td>24.000000</td>\n",
       "      <td>0.084296</td>\n",
       "      <td>6.908590e+06</td>\n",
       "      <td>41.754100</td>\n",
       "      <td>-76.662200</td>\n",
       "      <td>762.000000</td>\n",
       "      <td>1.049590e+05</td>\n",
       "    </tr>\n",
       "    <tr>\n",
       "      <th>max</th>\n",
       "      <td>1.993000e+09</td>\n",
       "      <td>392.581244</td>\n",
       "      <td>4392.000000</td>\n",
       "      <td>679.000000</td>\n",
       "      <td>164.000000</td>\n",
       "      <td>1.093289</td>\n",
       "      <td>8.204145e+06</td>\n",
       "      <td>61.563200</td>\n",
       "      <td>-65.978200</td>\n",
       "      <td>45892.000000</td>\n",
       "      <td>8.910559e+06</td>\n",
       "    </tr>\n",
       "  </tbody>\n",
       "</table>\n",
       "</div>"
      ],
      "text/plain": [
       "                npi  money_generated  impressions_count  total_procedures  \\\n",
       "count  1.391400e+04     13914.000000       13914.000000       6074.000000   \n",
       "mean   1.495852e+09         0.801886          14.374012         52.125453   \n",
       "std    2.864939e+08         6.159175          74.776296         62.869930   \n",
       "min    1.003000e+09         0.001534           1.000000          1.000000   \n",
       "25%    1.245636e+09         0.016601           2.000000         13.000000   \n",
       "50%    1.497196e+09         0.073613           4.000000         31.000000   \n",
       "75%    1.740414e+09         0.366000          10.000000         67.000000   \n",
       "max    1.993000e+09       392.581244        4392.000000        679.000000   \n",
       "\n",
       "       distinct_procedures  impression_cost        cbm_id  hospital_latitude  \\\n",
       "count          6074.000000     13914.000000  1.391400e+04        4844.000000   \n",
       "mean             18.434969         0.045338  5.773646e+06          38.184568   \n",
       "std              19.768780         0.059325  1.475171e+06           5.177444   \n",
       "min               1.000000         0.001515  1.537517e+06          13.463100   \n",
       "25%               6.000000         0.003489  5.000971e+06          34.200250   \n",
       "50%              12.000000         0.006496  6.099265e+06          39.772100   \n",
       "75%              24.000000         0.084296  6.908590e+06          41.754100   \n",
       "max             164.000000         1.093289  8.204145e+06          61.563200   \n",
       "\n",
       "       hospital_longitude  total_claim_count  total_drug_cost  \n",
       "count         4844.000000        8929.000000     8.929000e+03  \n",
       "mean           -89.289734        1033.611491     1.548504e+05  \n",
       "std             16.156617        2656.972489     4.332643e+05  \n",
       "min           -161.787000          11.000000     2.209000e+01  \n",
       "25%            -95.623600          49.000000     8.513600e+02  \n",
       "50%            -84.363550         164.000000     8.203630e+03  \n",
       "75%            -76.662200         762.000000     1.049590e+05  \n",
       "max            -65.978200       45892.000000     8.910559e+06  "
      ]
     },
     "execution_count": 54,
     "metadata": {},
     "output_type": "execute_result"
    }
   ],
   "source": [
    "data.describe()"
   ]
  },
  {
   "cell_type": "markdown",
   "metadata": {},
   "source": [
    "The max for impression_cost and count looks unrealistic. It's likely that the opens generated by a robot.Might need to look at the overall distribution.Hospital zip is likely an object, but it's treated like an integer. Data type needs to be changed."
   ]
  },
  {
   "cell_type": "code",
   "execution_count": 55,
   "metadata": {},
   "outputs": [
    {
     "data": {
      "text/plain": [
       "npi                             int64\n",
       "money_generated               float64\n",
       "impressions_count               int64\n",
       "gender                         object\n",
       "city                           object\n",
       "state                          object\n",
       "zipcode                        object\n",
       "sole_proprietor                object\n",
       "specialty                      object\n",
       "total_procedures              float64\n",
       "distinct_procedures           float64\n",
       "institution                    object\n",
       "derived_specialty_list         object\n",
       "event_ts                       object\n",
       "impression_cost               float64\n",
       "cbm_id                          int64\n",
       "publicationid                  object\n",
       "is_pii_enabled                 object\n",
       "hospital_city                  object\n",
       "hospital_state                 object\n",
       "hospital_zip                   object\n",
       "hospital_latitude             float64\n",
       "hospital_longitude            float64\n",
       "hospital_size                  object\n",
       "hospital_system_membership     object\n",
       "total_claim_count             float64\n",
       "total_drug_cost               float64\n",
       "dtype: object"
      ]
     },
     "execution_count": 55,
     "metadata": {},
     "output_type": "execute_result"
    }
   ],
   "source": [
    "data.dtypes"
   ]
  },
  {
   "cell_type": "code",
   "execution_count": 56,
   "metadata": {},
   "outputs": [
    {
     "data": {
      "text/plain": [
       "npi                             int64\n",
       "money_generated               float64\n",
       "impressions_count               int64\n",
       "gender                         object\n",
       "city                           object\n",
       "state                          object\n",
       "zipcode                        object\n",
       "sole_proprietor                object\n",
       "specialty                      object\n",
       "total_procedures              float64\n",
       "distinct_procedures           float64\n",
       "institution                    object\n",
       "derived_specialty_list         object\n",
       "event_ts                       object\n",
       "impression_cost               float64\n",
       "cbm_id                          int64\n",
       "publicationid                  object\n",
       "is_pii_enabled                 object\n",
       "hospital_city                  object\n",
       "hospital_state                 object\n",
       "hospital_zip                   object\n",
       "hospital_latitude             float64\n",
       "hospital_longitude            float64\n",
       "hospital_size                  object\n",
       "hospital_system_membership     object\n",
       "total_claim_count             float64\n",
       "total_drug_cost               float64\n",
       "dtype: object"
      ]
     },
     "execution_count": 56,
     "metadata": {},
     "output_type": "execute_result"
    }
   ],
   "source": [
    "data['hospital_zip'] = data['hospital_zip'].astype(str)\n",
    "data.dtypes"
   ]
  },
  {
   "cell_type": "code",
   "execution_count": 57,
   "metadata": {
    "scrolled": true
   },
   "outputs": [
    {
     "name": "stdout",
     "output_type": "stream",
     "text": [
      "<class 'pandas.core.frame.DataFrame'>\n",
      "Int64Index: 13914 entries, 0 to 13913\n",
      "Data columns (total 27 columns):\n",
      " #   Column                      Non-Null Count  Dtype  \n",
      "---  ------                      --------------  -----  \n",
      " 0   npi                         13914 non-null  int64  \n",
      " 1   money_generated             13914 non-null  float64\n",
      " 2   impressions_count           13914 non-null  int64  \n",
      " 3   gender                      2028 non-null   object \n",
      " 4   city                        13625 non-null  object \n",
      " 5   state                       13606 non-null  object \n",
      " 6   zipcode                     13660 non-null  object \n",
      " 7   sole_proprietor             13835 non-null  object \n",
      " 8   specialty                   13914 non-null  object \n",
      " 9   total_procedures            6074 non-null   float64\n",
      " 10  distinct_procedures         6074 non-null   float64\n",
      " 11  institution                 872 non-null    object \n",
      " 12  derived_specialty_list      10061 non-null  object \n",
      " 13  event_ts                    13914 non-null  object \n",
      " 14  impression_cost             13914 non-null  float64\n",
      " 15  cbm_id                      13914 non-null  int64  \n",
      " 16  publicationid               13914 non-null  object \n",
      " 17  is_pii_enabled              13914 non-null  object \n",
      " 18  hospital_city               4844 non-null   object \n",
      " 19  hospital_state              4844 non-null   object \n",
      " 20  hospital_zip                13914 non-null  object \n",
      " 21  hospital_latitude           4844 non-null   float64\n",
      " 22  hospital_longitude          4844 non-null   float64\n",
      " 23  hospital_size               4844 non-null   object \n",
      " 24  hospital_system_membership  3275 non-null   object \n",
      " 25  total_claim_count           8929 non-null   float64\n",
      " 26  total_drug_cost             8929 non-null   float64\n",
      "dtypes: float64(8), int64(3), object(16)\n",
      "memory usage: 3.0+ MB\n",
      "None\n"
     ]
    }
   ],
   "source": [
    "#exploring NULL values\n",
    "print(data.info())"
   ]
  },
  {
   "cell_type": "markdown",
   "metadata": {},
   "source": [
    "From the above, it looks like most records are missing gender info as well as institution. We'll drop these columns.\n",
    "In addition hospital membembership is missing half of the values. Let's see if this an empty cell means the value is truly missing"
   ]
  },
  {
   "cell_type": "code",
   "execution_count": 58,
   "metadata": {},
   "outputs": [
    {
     "data": {
      "text/plain": [
       "array([nan, 'Y'], dtype=object)"
      ]
     },
     "execution_count": 58,
     "metadata": {},
     "output_type": "execute_result"
    }
   ],
   "source": [
    "data['hospital_system_membership'].unique()"
   ]
  },
  {
   "cell_type": "markdown",
   "metadata": {},
   "source": [
    "It turns out that NaN in this case means that the hospital is not a member of a larger hospital system, so there is no need to get rid of this column. However, 'Y' must be recoded later."
   ]
  },
  {
   "cell_type": "code",
   "execution_count": 59,
   "metadata": {},
   "outputs": [
    {
     "data": {
      "text/plain": [
       "(13914, 25)"
      ]
     },
     "execution_count": 59,
     "metadata": {},
     "output_type": "execute_result"
    }
   ],
   "source": [
    "#dropping columns with a lot of missing values\n",
    "data.drop(['gender', 'institution'], axis=1,inplace=True)\n",
    "data.shape"
   ]
  },
  {
   "cell_type": "markdown",
   "metadata": {},
   "source": [
    "Let's explore the distributions of our continious variables and see if we have outliers"
   ]
  },
  {
   "cell_type": "code",
   "execution_count": 60,
   "metadata": {},
   "outputs": [
    {
     "data": {
      "image/png": "[encoded data removed]",
      "text/plain": [
       "<Figure size 720x720 with 1 Axes>"
      ]
     },
     "metadata": {
      "needs_background": "light"
     },
     "output_type": "display_data"
    }
   ],
   "source": [
    "plt.figure(figsize=(10,10))\n",
    "plt.title('Distribution of Money Generated',fontsize=15)\n",
    "plt.hist(data['money_generated'], bins=20)\n",
    "plt.show()"
   ]
  },
  {
   "cell_type": "code",
   "execution_count": 61,
   "metadata": {},
   "outputs": [
    {
     "name": "stdout",
     "output_type": "stream",
     "text": [
      "0.001534\n",
      "392.5812440000003\n",
      "0.8018862332183392\n",
      "6.159175125090951\n"
     ]
    },
    {
     "data": {
      "text/plain": [
       "2.538085899999997"
      ]
     },
     "execution_count": 61,
     "metadata": {},
     "output_type": "execute_result"
    }
   ],
   "source": [
    "print(data['money_generated'].min())\n",
    "print(data['money_generated'].max())\n",
    "print(data['money_generated'].mean())\n",
    "print(data['money_generated'].std())\n",
    "data['money_generated'].quantile(q=0.95)"
   ]
  },
  {
   "cell_type": "markdown",
   "metadata": {},
   "source": [
    "Looks like the target variable's statistics is distorted by an extreme outlier: max is 392 dollars, the mean is 80 dollars, whereas 90% of the sample contributed no more than 2.54 dollars. The max of 392 dollarscorresponds to 4,392 impressions. It's possible that this data point was generated by a bot or some software, not by human. We'll get rid of this outlier by limiting our dataset to only those falling within the 95th percentile. "
   ]
  },
  {
   "cell_type": "code",
   "execution_count": 62,
   "metadata": {},
   "outputs": [],
   "source": [
    "data = data.loc[(data['money_generated'] <=2.54)]"
   ]
  },
  {
   "cell_type": "code",
   "execution_count": 63,
   "metadata": {},
   "outputs": [
    {
     "name": "stdout",
     "output_type": "stream",
     "text": [
      "(13220, 25)\n"
     ]
    }
   ],
   "source": [
    "print(data.shape)"
   ]
  },
  {
   "cell_type": "markdown",
   "metadata": {},
   "source": [
    "Thus, we have filtered out about 700 practitioners. Let's explore the distribution again."
   ]
  },
  {
   "cell_type": "code",
   "execution_count": 64,
   "metadata": {},
   "outputs": [
    {
     "data": {
      "image/png": "[encoded data removed]",
      "text/plain": [
       "<Figure size 720x720 with 1 Axes>"
      ]
     },
     "metadata": {
      "needs_background": "light"
     },
     "output_type": "display_data"
    },
    {
     "name": "stdout",
     "output_type": "stream",
     "text": [
      "0.001534\n",
      "2.5394520000000003\n",
      "0.2577195036308629\n",
      "0.4377620284117259\n"
     ]
    }
   ],
   "source": [
    "import matplotlib.pyplot as plt\n",
    "plt.figure(figsize=(10,10))\n",
    "plt.title('Distribution of Money Generated',fontsize=15)\n",
    "plt.xlabel('USD',fontsize=10)\n",
    "plt.ylabel('Frequency',fontsize=10)\n",
    "plt.hist(data['money_generated'], bins=15)\n",
    "plt.show()\n",
    "print(data['money_generated'].min())\n",
    "print(data['money_generated'].max())\n",
    "print(data['money_generated'].mean())\n",
    "print(data['money_generated'].std())"
   ]
  },
  {
   "cell_type": "markdown",
   "metadata": {},
   "source": [
    "The data is still highly skewed to the right. One commonly applied method to normalize this type of distribution is to log-transform the original values. Let's create an additional column where we transform the values of 'money_generated' into their natural logarithmic values with a base of 10. "
   ]
  },
  {
   "cell_type": "code",
   "execution_count": 65,
   "metadata": {},
   "outputs": [],
   "source": [
    "import numpy as np\n",
    "data['money_generated_log'] = np.log10(data['money_generated'])"
   ]
  },
  {
   "cell_type": "code",
   "execution_count": 66,
   "metadata": {},
   "outputs": [
    {
     "data": {
      "image/png": "[encoded data removed]",
      "text/plain": [
       "<Figure size 720x720 with 1 Axes>"
      ]
     },
     "metadata": {
      "needs_background": "light"
     },
     "output_type": "display_data"
    }
   ],
   "source": [
    "plt.figure(figsize=(10,10))\n",
    "plt.xlabel('USD Log10',fontsize=10)\n",
    "plt.ylabel('Frequency',fontsize=10)\n",
    "plt.title('Distribution of Money Generated (log10)',fontsize=15)\n",
    "plt.hist(data['money_generated_log'], bins=25)\n",
    "plt.show()"
   ]
  },
  {
   "cell_type": "markdown",
   "metadata": {},
   "source": [
    "While the resulting distribution is still far from looking normal, despite multimodality it now looks a lot better. Let's continue exploring the remaining variables."
   ]
  },
  {
   "cell_type": "code",
   "execution_count": 67,
   "metadata": {},
   "outputs": [
    {
     "data": {
      "image/png": "[encoded data removed]",
      "text/plain": [
       "<Figure size 576x576 with 1 Axes>"
      ]
     },
     "metadata": {
      "needs_background": "light"
     },
     "output_type": "display_data"
    },
    {
     "data": {
      "image/png": "[encoded data removed]",
      "text/plain": [
       "<Figure size 576x576 with 1 Axes>"
      ]
     },
     "metadata": {
      "needs_background": "light"
     },
     "output_type": "display_data"
    },
    {
     "data": {
      "image/png": "[encoded data removed]",
      "text/plain": [
       "<Figure size 576x576 with 1 Axes>"
      ]
     },
     "metadata": {
      "needs_background": "light"
     },
     "output_type": "display_data"
    },
    {
     "data": {
      "image/png": "[encoded data removed]",
      "text/plain": [
       "<Figure size 1152x576 with 1 Axes>"
      ]
     },
     "metadata": {
      "needs_background": "light"
     },
     "output_type": "display_data"
    }
   ],
   "source": [
    "plt.figure(figsize=(8,8))\n",
    "plt.xlabel('Total Procedures Performed, count',fontsize=10)\n",
    "plt.ylabel('Frequency',fontsize=10)\n",
    "plt.title('Distribution of Total Procedures Count)',fontsize=15)\n",
    "plt.hist(data['total_procedures'], bins=25)\n",
    "plt.show()\n",
    "\n",
    "plt.figure(figsize=(8,8))\n",
    "plt.xlabel('Distinct Procedures Performed, count',fontsize=10)\n",
    "plt.ylabel('Frequency',fontsize=10)\n",
    "plt.title('Distribution of Total Procedures Count)',fontsize=15)\n",
    "plt.hist(data['distinct_procedures'], bins=25)\n",
    "plt.show()\n",
    "\n",
    "\n",
    "plt.figure(figsize=(8,8))\n",
    "plt.xlabel('Total Drugs Prescribed, count',fontsize=10)\n",
    "plt.ylabel('Frequency',fontsize=10)\n",
    "plt.title('Distribution of Total Drugs Prescribed)',fontsize=15)\n",
    "plt.hist(data['total_claim_count'], bins=25)\n",
    "plt.show()\n",
    "\n",
    "plt.figure(figsize=(16,8))\n",
    "plt.xlabel('Total Prescriptions Cost, USD',fontsize=10)\n",
    "plt.ylabel('Frequency',fontsize=10)\n",
    "plt.title('Distribution of Total Prescriptions Cost)',fontsize=15)\n",
    "plt.hist(data['total_drug_cost'], bins=25)\n",
    "plt.show()"
   ]
  },
  {
   "cell_type": "markdown",
   "metadata": {},
   "source": [
    "It appears that all the continious variables repeat the same distribution pattern as 'Money_Generated'. We'll log-transform them in the next step. In the meantime, the chart indicates the presence of extreme outliers in the 'total_drug_cost' variable that might tremendously distort its measures of central tendency"
   ]
  },
  {
   "cell_type": "code",
   "execution_count": 68,
   "metadata": {},
   "outputs": [
    {
     "name": "stdout",
     "output_type": "stream",
     "text": [
      "22.09\n",
      "8910558.52\n",
      "132031.52094310318\n",
      "387837.86996973737\n"
     ]
    },
    {
     "data": {
      "text/plain": [
       "674909.4475"
      ]
     },
     "execution_count": 68,
     "metadata": {},
     "output_type": "execute_result"
    }
   ],
   "source": [
    "print(data['total_drug_cost'].min())\n",
    "print(data['total_drug_cost'].max())\n",
    "print(data['total_drug_cost'].mean())\n",
    "print(data['total_drug_cost'].std())\n",
    "data['total_drug_cost'].quantile(q=0.95)"
   ]
  },
  {
   "cell_type": "markdown",
   "metadata": {},
   "source": [
    "Indeed, the max total cost of all drugs prescribed is 9M USD, whereas 95% of the sample prescribed drugs that cost less than 700K USD in total. Let's remove these outliers:"
   ]
  },
  {
   "cell_type": "code",
   "execution_count": 69,
   "metadata": {},
   "outputs": [
    {
     "data": {
      "text/plain": [
       "(7947, 26)"
      ]
     },
     "execution_count": 69,
     "metadata": {},
     "output_type": "execute_result"
    }
   ],
   "source": [
    "data = data.loc[(data['total_drug_cost'] <=675000)]\n",
    "data.shape"
   ]
  },
  {
   "cell_type": "code",
   "execution_count": 70,
   "metadata": {},
   "outputs": [
    {
     "data": {
      "image/png": "[encoded data removed]",
      "text/plain": [
       "<Figure size 1152x576 with 1 Axes>"
      ]
     },
     "metadata": {
      "needs_background": "light"
     },
     "output_type": "display_data"
    },
    {
     "name": "stdout",
     "output_type": "stream",
     "text": [
      "22.09\n",
      "673753.72\n",
      "64970.52236567253\n",
      "128607.25114376072\n"
     ]
    }
   ],
   "source": [
    "plt.figure(figsize=(16,8))\n",
    "plt.xlabel('Total Prescriptions Cost, USD',fontsize=10)\n",
    "plt.ylabel('Frequency',fontsize=10)\n",
    "plt.title('Distribution of Total Prescriptions Cost)',fontsize=15)\n",
    "plt.hist(data['total_drug_cost'], bins=25)\n",
    "plt.show()\n",
    "print(data['total_drug_cost'].min())\n",
    "print(data['total_drug_cost'].max())\n",
    "print(data['total_drug_cost'].mean())\n",
    "print(data['total_drug_cost'].std())"
   ]
  },
  {
   "cell_type": "markdown",
   "metadata": {},
   "source": [
    "Indeed, the removal of only 5% of the sample lowered the mean by 50%! The distribution is still very skewed, so let's proceed with the log transformation of the variables. "
   ]
  },
  {
   "cell_type": "code",
   "execution_count": 71,
   "metadata": {},
   "outputs": [],
   "source": [
    "data['total_procedures_log'] = np.log10(data['total_procedures'])\n",
    "data['distinct_procedures_log'] = np.log10(data['distinct_procedures'])\n",
    "data['total_claim_count_log'] = np.log10(data['total_claim_count'])\n",
    "data['total_drug_cost_log'] = np.log10(data['total_drug_cost'])"
   ]
  },
  {
   "cell_type": "code",
   "execution_count": 72,
   "metadata": {},
   "outputs": [
    {
     "data": {
      "image/png": "[encoded data removed]",
      "text/plain": [
       "<Figure size 576x576 with 1 Axes>"
      ]
     },
     "metadata": {
      "needs_background": "light"
     },
     "output_type": "display_data"
    },
    {
     "data": {
      "image/png": "[encoded data removed]",
      "text/plain": [
       "<Figure size 576x576 with 1 Axes>"
      ]
     },
     "metadata": {
      "needs_background": "light"
     },
     "output_type": "display_data"
    },
    {
     "data": {
      "image/png": "[encoded data removed]",
      "text/plain": [
       "<Figure size 576x576 with 1 Axes>"
      ]
     },
     "metadata": {
      "needs_background": "light"
     },
     "output_type": "display_data"
    },
    {
     "data": {
      "image/png": "[encoded data removed]",
      "text/plain": [
       "<Figure size 1152x576 with 1 Axes>"
      ]
     },
     "metadata": {
      "needs_background": "light"
     },
     "output_type": "display_data"
    }
   ],
   "source": [
    "plt.figure(figsize=(8,8))\n",
    "plt.xlabel('Total Procedures Performed, count(log10)',fontsize=10)\n",
    "plt.ylabel('Frequency',fontsize=10)\n",
    "plt.title('Distribution of Total Procedures Count(log10)',fontsize=15)\n",
    "plt.hist(data['total_procedures_log'], bins=25)\n",
    "plt.show()\n",
    "\n",
    "plt.figure(figsize=(8,8))\n",
    "plt.xlabel('Distinct Procedures Performed, count(log10)',fontsize=10)\n",
    "plt.ylabel('Frequency',fontsize=10)\n",
    "plt.title('Distribution of Total Procedures Count(log10)',fontsize=15)\n",
    "plt.hist(data['distinct_procedures_log'], bins=25)\n",
    "plt.show()\n",
    "\n",
    "\n",
    "plt.figure(figsize=(8,8))\n",
    "plt.xlabel('Total Drugs Prescribed, count(log10',fontsize=10)\n",
    "plt.ylabel('Frequency',fontsize=10)\n",
    "plt.title('Distribution of Total Drugs Prescribed (log10)',fontsize=15)\n",
    "plt.hist(data['total_claim_count_log'], bins=25)\n",
    "plt.show()\n",
    "\n",
    "plt.figure(figsize=(16,8))\n",
    "plt.xlabel('Total Prescriptions Cost, USD(log10)',fontsize=10)\n",
    "plt.ylabel('Frequency',fontsize=10)\n",
    "plt.title('Distribution of Total Prescriptions Cost(log10)',fontsize=15)\n",
    "plt.hist(data['total_drug_cost_log'], bins=25)\n",
    "plt.show()"
   ]
  },
  {
   "cell_type": "markdown",
   "metadata": {},
   "source": [
    "The new distributions look a lot better!"
   ]
  },
  {
   "cell_type": "code",
   "execution_count": 73,
   "metadata": {},
   "outputs": [],
   "source": [
    "data.to_csv('C:/Users/emich/Google Drive/Data science/Capstone 3/Data/Data_Continious_Vars_Cleaned.csv', index=False)"
   ]
  },
  {
   "cell_type": "code",
   "execution_count": 74,
   "metadata": {},
   "outputs": [
    {
     "name": "stdout",
     "output_type": "stream",
     "text": [
      "          npi  money_generated  impressions_count          city state zipcode  \\\n",
      "0  1003011610         0.129176                 32   NEWTONVILLE    MA   02460   \n",
      "1  1003012436         0.003150                  1         ISLIP    NY   11751   \n",
      "2  1003015785         0.022761                  1       Rutland    VT   05701   \n",
      "3  1003025461         1.270086                 12  PHILADELPHIA    PA   19140   \n",
      "4  1003029836         0.129028                  2     Stratford    NJ   08084   \n",
      "\n",
      "  sole_proprietor                                          specialty  \\\n",
      "0               N                                  Internal Medicine   \n",
      "1               N  Psychiatry and Neurology - Child and Adolescen...   \n",
      "2               Y                                      Ophthalmology   \n",
      "3               N                                  Internal Medicine   \n",
      "4               N                                            Urology   \n",
      "\n",
      "   total_procedures  distinct_procedures  ... hospital_longitude  \\\n",
      "0              24.0                  9.0  ...           -70.9071   \n",
      "1               5.0                  2.0  ...                NaN   \n",
      "2              21.0                 12.0  ...           -72.9551   \n",
      "3              89.0                 23.0  ...           -75.1507   \n",
      "4             158.0                 50.0  ...           -75.0583   \n",
      "\n",
      "  hospital_size  hospital_system_membership  total_claim_count  \\\n",
      "0        Medium                           Y             2238.0   \n",
      "1           NaN                         NaN              808.0   \n",
      "2        Medium                         NaN              603.0   \n",
      "3         Large                           Y             1122.0   \n",
      "4        Medium                           Y             1798.0   \n",
      "\n",
      "  total_drug_cost money_generated_log total_procedures_log  \\\n",
      "0       183041.18           -0.888818             1.380211   \n",
      "1        69750.23           -2.501689             0.698970   \n",
      "2        44920.21           -1.642809             1.322219   \n",
      "3       460828.57            0.103833             1.949390   \n",
      "4       218540.12           -0.889316             2.198657   \n",
      "\n",
      "  distinct_procedures_log  total_claim_count_log  total_drug_cost_log  \n",
      "0                0.954243               3.349860             5.262549  \n",
      "1                0.301030               2.907411             4.843546  \n",
      "2                1.079181               2.780317             4.652442  \n",
      "3                1.361728               3.049993             5.663539  \n",
      "4                1.698970               3.254790             5.339531  \n",
      "\n",
      "[5 rows x 30 columns]\n"
     ]
    }
   ],
   "source": [
    "#Next steps: explore distinct values of categorical variables, recode, specialty specifically\n",
    "data = pd.read_csv('C:/Users/emich/Google Drive/Data science/Capstone 3/Data/Data_Continious_Vars_Cleaned.csv')\n",
    "print(data.head())"
   ]
  },
  {
   "cell_type": "markdown",
   "metadata": {},
   "source": [
    "Let's explore categorical variables to see if they need any transformations."
   ]
  },
  {
   "cell_type": "code",
   "execution_count": 75,
   "metadata": {},
   "outputs": [
    {
     "name": "stdout",
     "output_type": "stream",
     "text": [
      "['MA' 'NY' 'VT' 'PA' 'NJ' 'TX' 'FL' 'OK' 'TN' 'NM' 'WA' 'CA' 'MI' 'MO'\n",
      " 'SC' 'VA' 'MN' 'GA' 'IN' 'MD' 'OH' 'DE' 'NC' 'WI' 'LA' 'MT' 'HI' 'AL'\n",
      " 'NV' nan 'IL' 'CO' 'UT' 'CT' 'AK' 'WV' 'IA' 'AZ' 'OR' 'PR' 'KY' 'RI' 'ND'\n",
      " 'AR' 'NH' 'ME' 'SD' 'DC' 'MS' 'ID' 'NE' 'KS' 'WY' 'BC' 'VIC' 'ON' 'AP']\n"
     ]
    }
   ],
   "source": [
    "print(data['state'].unique())"
   ]
  },
  {
   "cell_type": "markdown",
   "metadata": {},
   "source": [
    "state 'VIC' looks suspicious"
   ]
  },
  {
   "cell_type": "code",
   "execution_count": 76,
   "metadata": {},
   "outputs": [
    {
     "name": "stdout",
     "output_type": "stream",
     "text": [
      "             npi  money_generated  impressions_count       city state zipcode  \\\n",
      "4201  1528013224         1.389754                 24  Parkville   VIC    3052   \n",
      "\n",
      "     sole_proprietor           specialty  total_procedures  \\\n",
      "4201               N  Emergency Medicine               NaN   \n",
      "\n",
      "      distinct_procedures  ... hospital_longitude hospital_size  \\\n",
      "4201                  NaN  ...           -71.4965         Small   \n",
      "\n",
      "      hospital_system_membership  total_claim_count total_drug_cost  \\\n",
      "4201                         NaN               28.0          230.97   \n",
      "\n",
      "     money_generated_log total_procedures_log distinct_procedures_log  \\\n",
      "4201            0.142938                  NaN                     NaN   \n",
      "\n",
      "      total_claim_count_log  total_drug_cost_log  \n",
      "4201               1.447158             2.363556  \n",
      "\n",
      "[1 rows x 30 columns]\n"
     ]
    }
   ],
   "source": [
    "print(data.loc[data['state']=='VIC'])"
   ]
  },
  {
   "cell_type": "markdown",
   "metadata": {},
   "source": [
    "Turns out that Parkville, VIC is located in Australia. We are interested in US recipients, so we'll drop these rows"
   ]
  },
  {
   "cell_type": "code",
   "execution_count": 77,
   "metadata": {},
   "outputs": [],
   "source": [
    "data = data.drop([4201])"
   ]
  },
  {
   "cell_type": "code",
   "execution_count": 78,
   "metadata": {},
   "outputs": [
    {
     "name": "stdout",
     "output_type": "stream",
     "text": [
      "['MA' 'NY' 'VT' 'PA' 'NJ' 'TX' 'FL' 'OK' 'TN' 'NM' 'WA' 'CA' 'MI' 'MO'\n",
      " 'SC' 'VA' 'MN' 'GA' 'IN' 'MD' 'OH' 'DE' 'NC' 'WI' 'LA' 'MT' 'HI' 'AL'\n",
      " 'NV' nan 'IL' 'CO' 'UT' 'CT' 'AK' 'WV' 'IA' 'AZ' 'OR' 'PR' 'KY' 'RI' 'ND'\n",
      " 'AR' 'NH' 'ME' 'SD' 'DC' 'MS' 'ID' 'NE' 'KS' 'WY' 'BC' 'ON' 'AP']\n"
     ]
    }
   ],
   "source": [
    "print(data['state'].unique())"
   ]
  },
  {
   "cell_type": "markdown",
   "metadata": {},
   "source": [
    "This looks better. Moving onto the next variable, 'sole_proprietor' which reflects whether the doctor owns the practice they work at."
   ]
  },
  {
   "cell_type": "code",
   "execution_count": 79,
   "metadata": {},
   "outputs": [
    {
     "name": "stdout",
     "output_type": "stream",
     "text": [
      "N    5599\n",
      "Y    2195\n",
      "X     133\n",
      "Name: sole_proprietor, dtype: int64\n"
     ]
    }
   ],
   "source": [
    "print(data['sole_proprietor'].value_counts())"
   ]
  },
  {
   "cell_type": "markdown",
   "metadata": {},
   "source": [
    "We see value X which I suspect can indicate a checkbox checked. So let's recode these values into 'Y'"
   ]
  },
  {
   "cell_type": "code",
   "execution_count": 80,
   "metadata": {},
   "outputs": [
    {
     "name": "stdout",
     "output_type": "stream",
     "text": [
      "N    5599\n",
      "Y    2328\n",
      "Name: sole_proprietor, dtype: int64\n"
     ]
    }
   ],
   "source": [
    "data['sole_proprietor'].replace({'X':'Y'}, inplace=True)\n",
    "print(data['sole_proprietor'].value_counts())"
   ]
  },
  {
   "cell_type": "markdown",
   "metadata": {},
   "source": [
    "Let's move onto Specialty."
   ]
  },
  {
   "cell_type": "code",
   "execution_count": 81,
   "metadata": {},
   "outputs": [
    {
     "name": "stdout",
     "output_type": "stream",
     "text": [
      "Internal Medicine                                                     1004\n",
      "Dentist - General Practice                                             872\n",
      "Dentist                                                                792\n",
      "Emergency Medicine                                                     613\n",
      "Family Medicine                                                        546\n",
      "                                                                      ... \n",
      "Psychologist                                                             1\n",
      "Physical Medicine and Rehabilitation - Spinal Cord Injury Medicine       1\n",
      "Emergency Medicine - Medical Toxicology                                  1\n",
      "Internal Medicine - Addiction Medicine                                   1\n",
      "Plastic Surgery - Surgery of the Hand                                    1\n",
      "Name: specialty, Length: 177, dtype: int64\n"
     ]
    }
   ],
   "source": [
    "print(data['specialty'].value_counts())"
   ]
  },
  {
   "cell_type": "markdown",
   "metadata": {},
   "source": [
    "177 distinct specialties sounds like too many for a meaningful analysis.The format of this variable is \"Broad Specialty - Specialization\". We'll get rid of specializations and group doctors by broader practice areas. On the other hand, 'Internal Medicine' seems to be too broad, let's see how many distinct specialties there are. "
   ]
  },
  {
   "cell_type": "code",
   "execution_count": 82,
   "metadata": {},
   "outputs": [
    {
     "name": "stdout",
     "output_type": "stream",
     "text": [
      "Internal Medicine                                            1004\n",
      "Internal Medicine - Cardiovascular Disease                    223\n",
      "Internal Medicine - Gastroenterology                          139\n",
      "Internal Medicine - Nephrology                                 88\n",
      "Internal Medicine - Pulmonary Disease                          52\n",
      "Internal Medicine - Diabetes and Metabolism Endocrinology      51\n",
      "Internal Medicine - Hematology and Oncology                    47\n",
      "Internal Medicine - Critical Care Medicine                     35\n",
      "Internal Medicine - Infectious Disease                         31\n",
      "Internal Medicine - Rheumatology                               29\n",
      "Internal Medicine - Medical Oncology                           17\n",
      "Internal Medicine - Interventional Cardiology                  16\n",
      "Internal Medicine - Geriatric Medicine                         15\n",
      "Internal Medicine - Clinical Cardiac Electrophysiology         11\n",
      "Internal Medicine - Hospice and Palliative Medicine             9\n",
      "Internal Medicine - Hematology                                  4\n",
      "Internal Medicine - Allergy and Immunology                      3\n",
      "Internal Medicine - Adolescent Medicine                         3\n",
      "Internal Medicine - Hepatology                                  1\n",
      "Internal Medicine - Addiction Medicine                          1\n",
      "Internal Medicine - Sleep Medicine                              1\n",
      "Internal Medicine - Sports Medicine                             1\n",
      "Internal Medicine - Adult Congenital Heart Disease              1\n",
      "Name: specialty, dtype: int64\n"
     ]
    }
   ],
   "source": [
    "internal_medicine = data[data.specialty.str.startswith('Internal')]\n",
    "print(internal_medicine['specialty'].value_counts())\n"
   ]
  },
  {
   "cell_type": "markdown",
   "metadata": {},
   "source": [
    "Let's recode some of the frequent values into separate specialties:"
   ]
  },
  {
   "cell_type": "code",
   "execution_count": 83,
   "metadata": {},
   "outputs": [],
   "source": [
    "data.replace({'specialty' : {'Internal Medicine - Cardiovascular Disease': 'Cardiology',\n",
    "                             'Internal Medicine - Gastroenterology': 'Gastroenterology',\n",
    "                             'Internal Medicine - Geriatric Medicine': 'Geriatric Medicine',\n",
    "                             'Internal Medicine - Pulmonary Disease': 'Pulmonolgy',\n",
    "                             'Internal Medicine - Hematology and Oncology': 'Hematology and Oncology',\n",
    "                             'Internal Medicine - Infectious Disease': 'Infectious Disease',\n",
    "                             'Internal Medicine - Interventional Cardiology': 'Cardiology',\n",
    "                             'Internal Medicine - Bariatric Medicine': 'Bariatric Medicine',\n",
    "                             'Internal Medicine - Critical Care Medicine': 'Emergency Medicine',\n",
    "                             'Internal Medicine - Nephrology': 'Nephrology',\n",
    "                             'Internal Medicine - Diabetes and Metabolism Endocrinology': 'Endocrinology',\n",
    "                             'Internal Medicine - Medical Oncology': 'Hematology and Oncology',\n",
    "                             'Internal Medicine - Clinical Cardiac Electrophysiology':'Cardiology',\n",
    "                             'Internal Medicine - Rheumatology': 'Rheumatology',\n",
    "                             'Internal Medicine - Sports Medicine':'Sports Medicine',\n",
    "                             'Internal Medicine - Hematology':'Hematology and Oncology',\n",
    "                             'Internal Medicine - Adult Congenital Heart Disease':'Cardiology'\n",
    "                             \n",
    "                             \n",
    "                             \n",
    "                             \n",
    "                             \n",
    "                             \n",
    "                             \n",
    "}}, inplace=True)"
   ]
  },
  {
   "cell_type": "code",
   "execution_count": 84,
   "metadata": {},
   "outputs": [],
   "source": [
    "data['specialty'] = data['specialty'].str.split(' -',1).str[0]"
   ]
  },
  {
   "cell_type": "code",
   "execution_count": 85,
   "metadata": {},
   "outputs": [
    {
     "name": "stdout",
     "output_type": "stream",
     "text": [
      "64\n",
      "Dentist                                  1865\n",
      "Internal Medicine                        1022\n",
      "Emergency Medicine                        672\n",
      "Psychiatry and Neurology                  572\n",
      "Family Medicine                           560\n",
      "                                         ... \n",
      "Clinical Medical Laboratory                 1\n",
      "Acupuncturist                               1\n",
      "Nuclear Medicine                            1\n",
      "Clinic/Center                               1\n",
      "Personal Emergency Response Attendant       1\n",
      "Name: specialty, Length: 64, dtype: int64\n"
     ]
    }
   ],
   "source": [
    "specialty_list = data['specialty'].unique()\n",
    "print(len(specialty_list))\n",
    "print(data['specialty'].value_counts())"
   ]
  },
  {
   "cell_type": "code",
   "execution_count": 86,
   "metadata": {},
   "outputs": [
    {
     "data": {
      "text/plain": [
       "array(['Internal Medicine', 'Psychiatry and Neurology', 'Ophthalmology',\n",
       "       'Urology', 'Dentist', 'Independent Medical Examiner',\n",
       "       'Family Medicine', 'Emergency Medicine', 'Cardiology',\n",
       "       'Dermatology', 'Obstetrics and Gynecology', 'Radiology',\n",
       "       'Orthopaedic Surgery',\n",
       "       'Student in an Organized Health Care Education/Training Program',\n",
       "       'Optometrist', 'Surgery', 'Anesthesiology', 'Plastic Surgery',\n",
       "       'General Practice', 'Neurological Surgery', 'Specialist',\n",
       "       'Pulmonolgy', 'Nephrology', 'Hospitalist', 'Pain Medicine',\n",
       "       'Gastroenterology', 'Otolaryngology', 'Hematology and Oncology',\n",
       "       'Infectious Disease', 'Physical Medicine and Rehabilitation',\n",
       "       'Allergy and Immunology', 'Pharmacist', 'Geriatric Medicine',\n",
       "       'Oral and Maxillofacial Surgery', 'Endocrinology',\n",
       "       'Nurse Practitioner', 'Rheumatology', 'Physician Assistant',\n",
       "       'Pediatrics', 'Neuromusculoskeletal Medicine and OMM',\n",
       "       'Podiatrist', 'Advanced Heart Failure & Transplant Cardiology',\n",
       "       'Neuromusculoskeletal Medicine Sports Medicine',\n",
       "       'Clinical Medical Laboratory', 'Preventive Medicine',\n",
       "       'Female Pelvic Medicine and Reconstructive Surgery',\n",
       "       'Psychologist',\n",
       "       'Thoracic Surgery (Cardiothoracic Vascular Surgery)',\n",
       "       'Legal Medicine', 'Pathology', 'Colon and Rectal Surgery',\n",
       "       'Personal Emergency Response Attendant', 'Social Worker',\n",
       "       'Counselor', 'Rehabilitation Practitioner', 'Registered Nurse',\n",
       "       'Acupuncturist', 'Transplant Surgery', 'Nuclear Medicine',\n",
       "       'Medical Genetics', 'Specialist/Technologist', 'Sports Medicine',\n",
       "       'Clinic/Center', 'Psychoanalyst'], dtype=object)"
      ]
     },
     "execution_count": 86,
     "metadata": {},
     "output_type": "execute_result"
    }
   ],
   "source": [
    "data['specialty'].unique()"
   ]
  },
  {
   "cell_type": "markdown",
   "metadata": {},
   "source": [
    "Let's combine some of the values that are within the same treatment areas, e.g group all surgeons and nurses to reduce the count of categories"
   ]
  },
  {
   "cell_type": "code",
   "execution_count": 87,
   "metadata": {},
   "outputs": [],
   "source": [
    "data.replace({'specialty' : { 'Certified Registered Nurse Anesthetist' :'Nurse/PA/Technician', \n",
    "                             'Clinical Nurse Specialist' : 'Nurse/PA/Technician', 'Physician Assistant' : 'Nurse/PA/Technician',\n",
    "                          'Nurse Practitioner':'Nurse/PA/Technician', 'Registered Nurse': 'Nurse/PA/Technician',\n",
    "                           'Specialist': 'Nurse/PA/Technician', 'Specialist/Technologist':'Nurse/PA/Technician',\n",
    "                            'Colon and Rectal Surgery':'Surgery', 'Female Pelvic Medicine and Reconstructive Surgery':'Surgery',\n",
    "                             'Neurological Surgery':'Surgery','Oral and Maxillofacial Surgery':'Surgery',\n",
    "                             'Orthopaedic Surgery':'Surgery','Plastic Surgery':'Surgery',\n",
    "                             'Thoracic Surgery (Cardiothoracic Vascular Surgery)':'Surgery','Transplant Surgery':'Surgery',\n",
    "                             'Personal Emergency Response Attendant':'Emergency Medicine',\n",
    "                             'MS Genetic Counselor':'Medical Genetics',\n",
    "                             'Neuromusculoskeletal Medicine Sports Medicine':'Sports Medicine',\n",
    "                             'Optometrist':'Ophthalmology', \n",
    "                             'Speech-Language Pathologist':'Pathology', \n",
    "                             'Pharmacy Technician':'Pharmacist',\n",
    "                             'Physical Medicine and Rehabilitation':'Physical Therapist',\n",
    "                             'Rehabilitation Practitioner':'Physical Therapist',\n",
    "                             'Prevention Professional':'Preventive Medicine',\n",
    "                             'Student in an Organized Health Care Education/Training Program': 'Student',\n",
    "                             'Advanced Heart Failure & Transplant Cardiology': 'Cardiology'\n",
    "}}, inplace=True)"
   ]
  },
  {
   "cell_type": "code",
   "execution_count": 88,
   "metadata": {},
   "outputs": [
    {
     "name": "stdout",
     "output_type": "stream",
     "text": [
      "47\n",
      "Dentist                                  1865\n",
      "Internal Medicine                        1022\n",
      "Emergency Medicine                        673\n",
      "Psychiatry and Neurology                  572\n",
      "Family Medicine                           560\n",
      "Surgery                                   377\n",
      "Student                                   349\n",
      "Ophthalmology                             335\n",
      "Dermatology                               328\n",
      "Obstetrics and Gynecology                 268\n",
      "Cardiology                                256\n",
      "Urology                                   171\n",
      "Nurse/PA/Technician                       167\n",
      "Gastroenterology                          139\n",
      "Nephrology                                 88\n",
      "Radiology                                  81\n",
      "Anesthesiology                             71\n",
      "Hematology and Oncology                    68\n",
      "Otolaryngology                             60\n",
      "Physical Therapist                         58\n",
      "Pediatrics                                 55\n",
      "Pharmacist                                 52\n",
      "Pulmonolgy                                 52\n",
      "Endocrinology                              51\n",
      "Hospitalist                                45\n",
      "Allergy and Immunology                     31\n",
      "Infectious Disease                         31\n",
      "Rheumatology                               29\n",
      "General Practice                           27\n",
      "Geriatric Medicine                         15\n",
      "Pain Medicine                               9\n",
      "Neuromusculoskeletal Medicine and OMM       7\n",
      "Preventive Medicine                         5\n",
      "Legal Medicine                              5\n",
      "Sports Medicine                             4\n",
      "Psychologist                                3\n",
      "Pathology                                   3\n",
      "Podiatrist                                  3\n",
      "Counselor                                   2\n",
      "Independent Medical Examiner                2\n",
      "Nuclear Medicine                            1\n",
      "Psychoanalyst                               1\n",
      "Clinical Medical Laboratory                 1\n",
      "Social Worker                               1\n",
      "Acupuncturist                               1\n",
      "Medical Genetics                            1\n",
      "Clinic/Center                               1\n",
      "Name: specialty, dtype: int64\n"
     ]
    }
   ],
   "source": [
    "specialty_list = data['specialty'].unique()\n",
    "print(len(specialty_list))\n",
    "print(data['specialty'].value_counts())"
   ]
  },
  {
   "cell_type": "markdown",
   "metadata": {},
   "source": [
    "This looks a lot cleaner! Let's move onto the next variable, publicationid, which indicates which NewsLetter the receipient receives"
   ]
  },
  {
   "cell_type": "code",
   "execution_count": 89,
   "metadata": {},
   "outputs": [
    {
     "data": {
      "text/plain": [
       "AMA           3596\n",
       "ADA           1898\n",
       "ACEP           410\n",
       "APA            276\n",
       "AAD            245\n",
       "AOA            196\n",
       "ACC            183\n",
       "AUA            169\n",
       "CCF            154\n",
       "AMAWEEKEND     128\n",
       "AGA            106\n",
       "ASCO            98\n",
       "ASN             78\n",
       "ASHP            67\n",
       "ATS             64\n",
       "ACOG            59\n",
       "ENDO            58\n",
       "ACPE            28\n",
       "SEMPA           25\n",
       "TMA             22\n",
       "RDB             17\n",
       "AMCP            16\n",
       "NAPNAP          11\n",
       "CHEST           11\n",
       "ACRAD           10\n",
       "MSSNY            9\n",
       "DIA              6\n",
       "ASCP             4\n",
       "OSTEO            2\n",
       "Name: publicationid, dtype: int64"
      ]
     },
     "execution_count": 89,
     "metadata": {},
     "output_type": "execute_result"
    }
   ],
   "source": [
    "data['publicationid'].value_counts()"
   ]
  },
  {
   "cell_type": "markdown",
   "metadata": {},
   "source": [
    "Publicationid seems to be clean. Let's explore 'is_pii_enabled' which indicates whether the recipient allows sharing personal information with advertisers"
   ]
  },
  {
   "cell_type": "code",
   "execution_count": 90,
   "metadata": {},
   "outputs": [
    {
     "data": {
      "text/plain": [
       "b'\\x00'    6897\n",
       "b'\\x01'    1049\n",
       "Name: is_pii_enabled, dtype: int64"
      ]
     },
     "execution_count": 90,
     "metadata": {},
     "output_type": "execute_result"
    }
   ],
   "source": [
    "data['is_pii_enabled'].value_counts()"
   ]
  },
  {
   "cell_type": "markdown",
   "metadata": {},
   "source": [
    "Wow, this one looks bad! Value of 0 in the original dataset meant that PII sharing was not allowed, whereas value of 1 meant it is OK to share the recipient's personal data with advertisers. Let's recode this variable"
   ]
  },
  {
   "cell_type": "code",
   "execution_count": 91,
   "metadata": {},
   "outputs": [
    {
     "data": {
      "text/plain": [
       "b'\\x00'    6897\n",
       "b'\\x01'    1049\n",
       "Name: is_pii_enabled, dtype: int64"
      ]
     },
     "execution_count": 91,
     "metadata": {},
     "output_type": "execute_result"
    }
   ],
   "source": [
    "#data['is_pii_enabled'] = data['is_pii_enabled'].str.split('x',1).str[1]\n",
    "#data['is_pii_enabled'] = data['is_pii_enabled'].str.split(\"'\",1).str[0]\n",
    "data.replace({'is_pii_enabled':{'00': 0, '01':1}}, inplace=True)\n",
    "data['is_pii_enabled'].value_counts()"
   ]
  },
  {
   "cell_type": "markdown",
   "metadata": {},
   "source": [
    "Let's move onto 'hospital_system_membership'. We saw earlier that it was only coded for 'Yes', but not for 'N'. Let's add this value and recode the variable into 1 for 'Yes' and 0 for 'No'"
   ]
  },
  {
   "cell_type": "code",
   "execution_count": 92,
   "metadata": {},
   "outputs": [
    {
     "data": {
      "text/plain": [
       "Y    2239\n",
       "Name: hospital_system_membership, dtype: int64"
      ]
     },
     "execution_count": 92,
     "metadata": {},
     "output_type": "execute_result"
    }
   ],
   "source": [
    "data['hospital_system_membership'].value_counts()"
   ]
  },
  {
   "cell_type": "code",
   "execution_count": 93,
   "metadata": {},
   "outputs": [
    {
     "data": {
      "text/plain": [
       "0.0    5707\n",
       "1.0    2239\n",
       "Name: hospital_system_membership, dtype: int64"
      ]
     },
     "execution_count": 93,
     "metadata": {},
     "output_type": "execute_result"
    }
   ],
   "source": [
    "data['hospital_system_membership'] = data['hospital_system_membership'].astype(object)\n",
    "data.replace({'hospital_system_membership':{'Y':1}}, inplace=True)\n",
    "data['hospital_system_membership'].fillna(0, inplace=True)\n",
    "data['hospital_system_membership'].value_counts()"
   ]
  },
  {
   "cell_type": "markdown",
   "metadata": {},
   "source": [
    "Moving on to the next variable, the state where the hospital in which the doctor works is located."
   ]
  },
  {
   "cell_type": "code",
   "execution_count": 94,
   "metadata": {},
   "outputs": [
    {
     "data": {
      "text/plain": [
       "CA             297\n",
       "NY             256\n",
       "TX             216\n",
       "FL             201\n",
       "PA             187\n",
       "IL             178\n",
       "MA             156\n",
       "OH             126\n",
       "NC             124\n",
       "NJ             120\n",
       "MI             107\n",
       "MN              89\n",
       "GA              80\n",
       "VA              79\n",
       "WI              73\n",
       "WA              70\n",
       "MD              66\n",
       "MO              64\n",
       "IN              57\n",
       "TN              57\n",
       "CT              55\n",
       "AZ              55\n",
       "CO              45\n",
       "SC              41\n",
       "OR              39\n",
       "LA              36\n",
       "KY              35\n",
       "UT              29\n",
       "AL              25\n",
       "IA              24\n",
       "NH              22\n",
       "DC              21\n",
       "AR              21\n",
       "MS              21\n",
       "RI              20\n",
       "NV              18\n",
       "WV              17\n",
       "OK              16\n",
       "ME              16\n",
       "KS              16\n",
       "NM              16\n",
       "DE              15\n",
       "HI              15\n",
       "ID              15\n",
       "NE              14\n",
       "MT              12\n",
       "VT               9\n",
       "SD               8\n",
       "WY               7\n",
       "AK               6\n",
       "ND               6\n",
       "Puerto Rico      5\n",
       "Name: hospital_state, dtype: int64"
      ]
     },
     "execution_count": 94,
     "metadata": {},
     "output_type": "execute_result"
    }
   ],
   "source": [
    "data['hospital_state'].value_counts()"
   ]
  },
  {
   "cell_type": "markdown",
   "metadata": {},
   "source": [
    "Nothing looks particularly suspicious here, so we can examine the next variable, the size of the hospital where each doctor works."
   ]
  },
  {
   "cell_type": "code",
   "execution_count": 95,
   "metadata": {},
   "outputs": [
    {
     "data": {
      "text/plain": [
       "Large     1461\n",
       "Medium    1460\n",
       "Small      382\n",
       "Name: hospital_size, dtype: int64"
      ]
     },
     "execution_count": 95,
     "metadata": {},
     "output_type": "execute_result"
    }
   ],
   "source": [
    "data['hospital_size'].value_counts()"
   ]
  },
  {
   "cell_type": "markdown",
   "metadata": {},
   "source": [
    "Hospital size looks OK. Let's move on to the last variable, 'derived_specialty_list'. This gives us additional information about each doctor's specialty. More specifically treatment areas in which doctors works if the specialty is multidisciplinary. The each value in a column represents a set of specialty codes. My assumption is that the more disciplines there are in the set, the more often the doctor will be targeted by different advertisers. Out task here is to transform this variable so that we get the counts of items in each set instead of specific codes."
   ]
  },
  {
   "cell_type": "code",
   "execution_count": 96,
   "metadata": {},
   "outputs": [
    {
     "data": {
      "text/plain": [
       "EM                       461\n",
       "P                        312\n",
       "IM,MPD                   266\n",
       "D                        236\n",
       "OBG                      195\n",
       "                        ... \n",
       "CCM,EM,RESIDENT            1\n",
       "GS,DR                      1\n",
       "CD,CTR,IM,ISM ,MPD,TS      1\n",
       "GP,FP,MDM,OBG              1\n",
       "DR,HEM,HO,ON,STUDENT       1\n",
       "Name: derived_specialty_list, Length: 1220, dtype: int64"
      ]
     },
     "execution_count": 96,
     "metadata": {},
     "output_type": "execute_result"
    }
   ],
   "source": [
    "data['derived_specialty_list'].value_counts()"
   ]
  },
  {
   "cell_type": "markdown",
   "metadata": {},
   "source": [
    "We'll count subspecialties in each set by counting commas in that set and then adding 1 to the number of commas:"
   ]
  },
  {
   "cell_type": "code",
   "execution_count": 97,
   "metadata": {},
   "outputs": [
    {
     "name": "stdout",
     "output_type": "stream",
     "text": [
      "0       2.0\n",
      "1       0.0\n",
      "2       1.0\n",
      "3       5.0\n",
      "4       0.0\n",
      "       ... \n",
      "7942    NaN\n",
      "7943    NaN\n",
      "7944    0.0\n",
      "7945    NaN\n",
      "7946    2.0\n",
      "Name: comma_count, Length: 7946, dtype: float64\n",
      "0       3.0\n",
      "1       1.0\n",
      "2       2.0\n",
      "3       6.0\n",
      "4       1.0\n",
      "       ... \n",
      "7942    NaN\n",
      "7943    NaN\n",
      "7944    1.0\n",
      "7945    NaN\n",
      "7946    3.0\n",
      "Name: sub_specialty_count, Length: 7946, dtype: float64\n"
     ]
    },
    {
     "data": {
      "text/plain": [
       "1.0     2158\n",
       "2.0     1616\n",
       "3.0     1215\n",
       "4.0      607\n",
       "5.0      164\n",
       "6.0       59\n",
       "7.0       18\n",
       "8.0        7\n",
       "9.0        2\n",
       "10.0       1\n",
       "11.0       1\n",
       "Name: sub_specialty_count, dtype: int64"
      ]
     },
     "execution_count": 97,
     "metadata": {},
     "output_type": "execute_result"
    }
   ],
   "source": [
    "data['comma_count'] = data['derived_specialty_list'].str.count(',')\n",
    "print(data['comma_count'])\n",
    "data['sub_specialty_count'] = data['comma_count'] +1\n",
    "print (data['sub_specialty_count'])\n",
    "data['sub_specialty_count'].value_counts()"
   ]
  },
  {
   "cell_type": "code",
   "execution_count": 98,
   "metadata": {},
   "outputs": [],
   "source": [
    "data.drop(['comma_count'], axis=1,inplace=True)"
   ]
  },
  {
   "cell_type": "markdown",
   "metadata": {},
   "source": [
    "We've dropped the column we no longer need. Let's save the cleaned dataset."
   ]
  },
  {
   "cell_type": "code",
   "execution_count": 99,
   "metadata": {},
   "outputs": [],
   "source": [
    "data.to_csv('C:/Users/emich/Google Drive/Data science/Capstone 3/Data/Data_Cleaned.csv')"
   ]
  },
  {
   "cell_type": "code",
   "execution_count": null,
   "metadata": {},
   "outputs": [],
   "source": []
  }
 ],
 "metadata": {
  "kernelspec": {
   "display_name": "Python 3",
   "language": "python",
   "name": "python3"
  },
  "language_info": {
   "codemirror_mode": {
    "name": "ipython",
    "version": 3
   },
   "file_extension": ".py",
   "mimetype": "text/x-python",
   "name": "python",
   "nbconvert_exporter": "python",
   "pygments_lexer": "ipython3",
   "version": "3.7.6"
  }
 },
 "nbformat": 4,
 "nbformat_minor": 4
}
