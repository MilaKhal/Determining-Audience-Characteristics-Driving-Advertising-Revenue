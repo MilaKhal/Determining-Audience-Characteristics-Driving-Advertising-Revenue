{
 "cells": [
  {
   "cell_type": "code",
   "execution_count": 1,
   "metadata": {},
   "outputs": [],
   "source": [
    "import pandas as pd\n",
    "import numpy as np\n",
    "import matplotlib.pyplot as plt\n",
    "from sqlalchemy import create_engine"
   ]
  },
  {
   "cell_type": "markdown",
   "metadata": {},
   "source": [
    "# Data Import"
   ]
  },
  {
   "cell_type": "markdown",
   "metadata": {},
   "source": [
    "This part prepares extra data for my main dataset with physician info. \n",
    "This one adds data on how many drugs each physician prescribes (prescribed in 2018).\n",
    "Note that this data is aggregated and can be added only after the main dataset is aggregated,so that each row represents a unique physician"
   ]
  },
  {
   "cell_type": "code",
   "execution_count": null,
   "metadata": {},
   "outputs": [],
   "source": [
    "#getting prescriptions data from CMS\n",
    "df = pd.read_csv(r'D:/PartD_Prescriber_PUF_NPI_18.txt',sep='\\t',header=(0))\n",
    "print(df.head())\n",
    "#selecting only the columns we need - how many drugs prescribed and total cost\n",
    "df = df [['npi','total_claim_count','total_drug_cost']]\n",
    "print(df.head())\n",
    "#summarizing data by provider\n",
    "df = df.groupby('npi').sum()\n",
    "print(df.shape)\n",
    "print(df.head())\n",
    "# saving dataset to push it my SQL server\n",
    "df.to_csv('D:/Data Repo/Mila/2018_prescriptions_summary_data.csv')"
   ]
  },
  {
   "cell_type": "markdown",
   "metadata": {},
   "source": [
    "This part creates the main dataset with physician info for each impression in 2020 by connecting to the SQL server\n",
    "and running the query below. To calculate the target variable, the amount of money each prescriber 'earned' for the company, this data set needs to be aggregated by npi."
   ]
  },
  {
   "cell_type": "code",
   "execution_count": 12,
   "metadata": {},
   "outputs": [
    {
     "name": "stdout",
     "output_type": "stream",
     "text": [
      "          npi          first_name last_name gender address       city state  \\\n",
      "0  1316146061  Florello Sven-Erik  Quianzon    N/A     N/A  SKOWHEGAN    ME   \n",
      "1  1316146061  Florello Sven-Erik  Quianzon    N/A     N/A  SKOWHEGAN    ME   \n",
      "2  1316146061  Florello Sven-Erik  Quianzon    N/A     N/A  SKOWHEGAN    ME   \n",
      "3  1316146061  Florello Sven-Erik  Quianzon    N/A     N/A  SKOWHEGAN    ME   \n",
      "4  1316146061  Florello Sven-Erik  Quianzon    N/A     N/A  SKOWHEGAN    ME   \n",
      "\n",
      "  zipcode sole_proprietor medicare_ind  ...   cbm_id publicationid  \\\n",
      "0   04976               N            N  ...  5094890           CCF   \n",
      "1   04976               N            N  ...  5094890           CCF   \n",
      "2   04976               N            N  ...  5094890           CCF   \n",
      "3   04976               N            N  ...  5094890           CCF   \n",
      "4   04976               N            N  ...  5094890           CCF   \n",
      "\n",
      "   is_pii_enabled  hospital_city hospital_state hospital_zip  \\\n",
      "0         b'\\x01'      Skowhegan             ME         4976   \n",
      "1         b'\\x01'      Skowhegan             ME         4976   \n",
      "2         b'\\x01'      Skowhegan             ME         4976   \n",
      "3         b'\\x01'      Skowhegan             ME         4976   \n",
      "4         b'\\x01'      Skowhegan             ME         4976   \n",
      "\n",
      "  hospital_latitude  hospital_longitude hospital_size  \\\n",
      "0           44.7589            -69.7131         Small   \n",
      "1           44.7589            -69.7131         Small   \n",
      "2           44.7589            -69.7131         Small   \n",
      "3           44.7589            -69.7131         Small   \n",
      "4           44.7589            -69.7131         Small   \n",
      "\n",
      "   hospital_system_membership  \n",
      "0                              \n",
      "1                              \n",
      "2                              \n",
      "3                              \n",
      "4                              \n",
      "\n",
      "[5 rows x 31 columns]\n",
      "(50000, 31)\n"
     ]
    }
   ],
   "source": [
    "#TO DO BEFORE SUBMISSION - REMOVE CREDENTIALS\n",
    "engine = create_engine(\n",
    "    \"CREDENTIALS REMOVED\",\n",
    ")\n",
    "\n",
    "QUERY = \"\"\"\n",
    "SELECT\n",
    "m.npi AS 'npi', \n",
    "r.first_name AS first_name,\n",
    "r.last_name AS last_name,\n",
    "IFNULL(r.gender, 'N/A') AS gender,\n",
    "IFNULL(r. address1, 'N/A') AS address,\n",
    "IFNULL(r.city, 'N/A') AS city,\n",
    "r.state AS state,\n",
    "LEFT(r.zipcode,5) AS zipcode,\n",
    "r. sole_proprietor_ind AS sole_proprietor,\n",
    "r.medicare_ind, \n",
    "medicaid_ind,\n",
    "t.name AS 'specialty',\n",
    "total_procedures,\n",
    "distinct_procedures,\n",
    "institution,\n",
    "derived_specialty_list,\n",
    "event_ts,\n",
    "adiolineitemid,\n",
    "li.costperdrop,\n",
    "dropsize,\n",
    "costperdrop/dropsize as impression_cost,\n",
    "r.cbm_id,\n",
    "CASE client_key\t\t\t\t\n",
    "\tWHEN 'AMAEXPAND'\t\t\t\n",
    "\t\tTHEN 'AMA'\t\t\n",
    "\tWHEN 'RDBDMD'\t\t\t\n",
    "\t\tTHEN 'RDB'\t\t\n",
    "\tWHEN 'NEUROCCF'\t\t\t\n",
    "\t\tTHEN 'NEURO'\t\t\n",
    "\tWHEN 'NEURODMD'\t\t\t\n",
    "\t\tTHEN 'NEURO'\t\t\n",
    "\tWHEN 'CCRADIODMD'\t\t\t\n",
    "\t\tTHEN 'CCRADIO'\t\t\n",
    "\tWHEN 'CCENDODMD'\t\t\t\n",
    "\t\tTHEN 'CCENDO'\t\t\n",
    "\tWHEN 'DENTALRD'\t\t\t\n",
    "\t\tTHEN 'DENTAL'\t\t\n",
    "\tWHEN 'DENTALDMD'\t\t\t\n",
    "\t\tTHEN 'DENTAL'\t\t\n",
    "\tWHEN 'DENTALHEALTHLINK'\t\t\t\n",
    "\t\tTHEN 'DENTAL'\t\t\n",
    "\tELSE client_key\t\t\t\n",
    "\tEND AS 'publicationid',\n",
    "clients.is_pii_enabled,\n",
    "h.city AS hospital_city, \n",
    "h.state AS hospital_state,\n",
    "LEFT(h.zipcode,5) as hospital_zip,\n",
    "h.latitude AS hospital_latitude,\n",
    "h.longitude AS hospital_longitude,\n",
    "h.hospital_size AS hospital_size,\n",
    "h.system_member AS hospital_system_membership\n",
    "\n",
    "FROM research.ad_io_line_item_drop_event e \n",
    "\t\tINNER JOIN research.adiolineitemdrop d ON (e.ad_io_line_item_drop_id = d.adiolineitemdropid)\n",
    "\t\tINNER JOIN research.adiolineitem li USING(adiolineitemid)\n",
    "\t\tINNER JOIN\n",
    "\t\tresearch.recipients r ON (e.recipient_id = r.cbm_id)\n",
    "\t\tINNER JOIN\n",
    "\t\tresearch.clients USING(client_id)\n",
    "\t\tINNER JOIN\n",
    "\t\tresearch.recipientmatch m ON (r.cbm_id = m.cbm_id AND total_score >= 65)\n",
    "        LEFT JOIN  research.npitaxonomy USING (npi)\n",
    "\t\tLEFT JOIN  research.taxonomy t ON (npitaxonomy.taxonomy_code = t.code)\n",
    "        LEFT JOIN temp_darcy.hospital_affiliation USING(npi)\n",
    "        LEFT JOIN temp_darcy.hospital h USING(ccn)\n",
    "        LEFT JOIN (SELECT npi, count(procedure_name) AS total_procedures, count(distinct procedure_name) AS distinct_procedures\n",
    "\t\t\t\t\tFROM temp_darcy.procedures\n",
    "\t\t\t\t\tGROUP BY npi) as procedures USING (npi)\n",
    "\n",
    "\tWHERE runstatus = 'Y'\n",
    "\tAND date(event_ts) BETWEEN '2020-01-01' AND '2020-03-01'\n",
    "    AND dropsize > 0\n",
    "    AND costperdrop > 0\n",
    "    LIMIT 200000\n",
    "\"\"\"\n",
    "\n",
    "with engine.connect() as con:\n",
    "    rs = con.execute(QUERY)\n",
    "    df_main = pd.DataFrame(rs.fetchall()) #fetchall() lists all results\n",
    "    df_main.columns = rs.keys()\n",
    "    con.close()\n",
    "print(df_main.head())\n",
    "print(df_main.shape)"
   ]
  },
  {
   "cell_type": "code",
   "execution_count": 16,
   "metadata": {},
   "outputs": [],
   "source": [
    "#saving the dataframe so we don't have to fetch it every time\n",
    "df_main.to_csv('C:/Users/emich/Google Drive/Data science/Capstone 3/Data/Data_main.csv', index=False)"
   ]
  },
  {
   "cell_type": "markdown",
   "metadata": {},
   "source": [
    "# Combining Datasets"
   ]
  },
  {
   "cell_type": "code",
   "execution_count": 76,
   "metadata": {},
   "outputs": [],
   "source": [
    "df_main = pd.read_csv(r'C:/Users/emich/Google Drive/Data science/Capstone 3/Data/Data_main.csv')"
   ]
  },
  {
   "cell_type": "code",
   "execution_count": 77,
   "metadata": {},
   "outputs": [
    {
     "name": "stdout",
     "output_type": "stream",
     "text": [
      "          npi first_name last_name gender address       city state zipcode  \\\n",
      "0  1518226661       Ryan  Sychterz      M     NaN        BOW    NH   03304   \n",
      "1  1518226661       Ryan  Sychterz      M     NaN        BOW    NH   03304   \n",
      "2  1942444237      Sarah      Finn    NaN     NaN  NEWFIELDS    NH   03856   \n",
      "3  1942444237      Sarah      Finn    NaN     NaN  NEWFIELDS    NH   03856   \n",
      "4  1942444237      Sarah      Finn    NaN     NaN  NEWFIELDS    NH   03856   \n",
      "\n",
      "  sole_proprietor medicare_ind  ...   cbm_id publicationid  is_pii_enabled  \\\n",
      "0               N            N  ...  5918490         SEMPA         b'\\x01'   \n",
      "1               N            N  ...  5918490         SEMPA         b'\\x01'   \n",
      "2               N            N  ...  5753963           AMA         b'\\x00'   \n",
      "3               N            N  ...  5753963           AMA         b'\\x00'   \n",
      "4               N            N  ...  5753963           AMA         b'\\x00'   \n",
      "\n",
      "   hospital_city hospital_state hospital_zip hospital_latitude  \\\n",
      "0        Concord             NH       3301.0           43.1971   \n",
      "1        Concord             NH       3301.0           43.1971   \n",
      "2        Lebanon             NH       3756.0           43.6760   \n",
      "3        Lebanon             NH       3756.0           43.6760   \n",
      "4        Lebanon             NH       3756.0           43.6760   \n",
      "\n",
      "   hospital_longitude  hospital_size  hospital_system_membership  \n",
      "0             -71.561         Medium                         NaN  \n",
      "1             -71.561         Medium                         NaN  \n",
      "2             -72.273          Large                         NaN  \n",
      "3             -72.273          Large                         NaN  \n",
      "4             -72.273          Large                         NaN  \n",
      "\n",
      "[5 rows x 31 columns]\n",
      "(200000, 31)\n"
     ]
    }
   ],
   "source": [
    "print(df_main.head())\n",
    "print (df_main.shape)"
   ]
  },
  {
   "cell_type": "code",
   "execution_count": 78,
   "metadata": {},
   "outputs": [
    {
     "name": "stdout",
     "output_type": "stream",
     "text": [
      "(13914, 3)\n",
      "          npi  money_generated  impressions_count\n",
      "0  1003000415         0.072093                  3\n",
      "1  1003011610         0.129176                 32\n",
      "2  1003012436         0.003150                  1\n",
      "3  1003012634         2.835712                 20\n",
      "4  1003015785         0.022761                  1\n"
     ]
    }
   ],
   "source": [
    "#from the main dataframe summarizing how much money each doctor generated by summing all impressions and \n",
    "#impression costs for each unique npi\n",
    "df_money = df_main.groupby('npi')['impression_cost'].sum().reset_index(name='money_generated')\n",
    "df_impressions = df_main.groupby('npi')['event_ts'].count().reset_index(name='impressions_count')\n",
    "df_money = pd.merge(df_money,df_impressions)\n",
    "print(df_money.shape)\n",
    "print(df_money.head())"
   ]
  },
  {
   "cell_type": "code",
   "execution_count": 79,
   "metadata": {},
   "outputs": [
    {
     "name": "stdout",
     "output_type": "stream",
     "text": [
      "(13914, 34)\n",
      "          npi  money_generated  impressions_count         npi first_name  \\\n",
      "0  1003000415         0.072093                  3  1518226661       Ryan   \n",
      "1  1003011610         0.129176                 32  1518226661       Ryan   \n",
      "2  1003012436         0.003150                  1  1942444237      Sarah   \n",
      "3  1003012634         2.835712                 20  1942444237      Sarah   \n",
      "4  1003015785         0.022761                  1  1942444237      Sarah   \n",
      "\n",
      "  last_name gender address       city state  ...   cbm_id publicationid  \\\n",
      "0  Sychterz      M     NaN        BOW    NH  ...  5918490         SEMPA   \n",
      "1  Sychterz      M     NaN        BOW    NH  ...  5918490         SEMPA   \n",
      "2      Finn    NaN     NaN  NEWFIELDS    NH  ...  5753963           AMA   \n",
      "3      Finn    NaN     NaN  NEWFIELDS    NH  ...  5753963           AMA   \n",
      "4      Finn    NaN     NaN  NEWFIELDS    NH  ...  5753963           AMA   \n",
      "\n",
      "  is_pii_enabled hospital_city hospital_state  hospital_zip  \\\n",
      "0        b'\\x01'       Concord             NH        3301.0   \n",
      "1        b'\\x01'       Concord             NH        3301.0   \n",
      "2        b'\\x00'       Lebanon             NH        3756.0   \n",
      "3        b'\\x00'       Lebanon             NH        3756.0   \n",
      "4        b'\\x00'       Lebanon             NH        3756.0   \n",
      "\n",
      "   hospital_latitude hospital_longitude hospital_size  \\\n",
      "0            43.1971            -71.561        Medium   \n",
      "1            43.1971            -71.561        Medium   \n",
      "2            43.6760            -72.273         Large   \n",
      "3            43.6760            -72.273         Large   \n",
      "4            43.6760            -72.273         Large   \n",
      "\n",
      "  hospital_system_membership  \n",
      "0                        NaN  \n",
      "1                        NaN  \n",
      "2                        NaN  \n",
      "3                        NaN  \n",
      "4                        NaN  \n",
      "\n",
      "[5 rows x 34 columns]\n"
     ]
    }
   ],
   "source": [
    "#data = pd.merge(df_money, df_main, how='left')\n",
    "data = pd.concat([df_money, df_main], axis=1, join=\"inner\")\n",
    "print(data.shape)\n",
    "print(data.head())"
   ]
  },
  {
   "cell_type": "code",
   "execution_count": 80,
   "metadata": {},
   "outputs": [
    {
     "name": "stdout",
     "output_type": "stream",
     "text": [
      "          npi  total_claim_count  total_drug_cost\n",
      "0  1003000126                492         27744.26\n",
      "1  1003000142               1818        124220.94\n",
      "2  1003000167                 77           502.88\n",
      "3  1003000282                100          5132.53\n",
      "4  1003000407               2766        118165.29\n",
      "          npi  money_generated  impressions_count         npi first_name  \\\n",
      "0  1003000415         0.072093                  3  1518226661       Ryan   \n",
      "1  1003011610         0.129176                 32  1518226661       Ryan   \n",
      "2  1003012436         0.003150                  1  1942444237      Sarah   \n",
      "3  1003012634         2.835712                 20  1942444237      Sarah   \n",
      "4  1003015785         0.022761                  1  1942444237      Sarah   \n",
      "\n",
      "  last_name gender address       city state  ... hospital_city hospital_state  \\\n",
      "0  Sychterz      M     NaN        BOW    NH  ...       Concord             NH   \n",
      "1  Sychterz      M     NaN        BOW    NH  ...       Concord             NH   \n",
      "2      Finn    NaN     NaN  NEWFIELDS    NH  ...       Lebanon             NH   \n",
      "3      Finn    NaN     NaN  NEWFIELDS    NH  ...       Lebanon             NH   \n",
      "4      Finn    NaN     NaN  NEWFIELDS    NH  ...       Lebanon             NH   \n",
      "\n",
      "  hospital_zip hospital_latitude hospital_longitude  hospital_size  \\\n",
      "0       3301.0           43.1971            -71.561         Medium   \n",
      "1       3301.0           43.1971            -71.561         Medium   \n",
      "2       3756.0           43.6760            -72.273          Large   \n",
      "3       3756.0           43.6760            -72.273          Large   \n",
      "4       3756.0           43.6760            -72.273          Large   \n",
      "\n",
      "   hospital_system_membership         npi total_claim_count total_drug_cost  \n",
      "0                         NaN  1003000126               492        27744.26  \n",
      "1                         NaN  1003000142              1818       124220.94  \n",
      "2                         NaN  1003000167                77          502.88  \n",
      "3                         NaN  1003000282               100         5132.53  \n",
      "4                         NaN  1003000407              2766       118165.29  \n",
      "\n",
      "[5 rows x 37 columns]\n"
     ]
    },
    {
     "data": {
      "text/plain": [
       "(13914, 37)"
      ]
     },
     "execution_count": 80,
     "metadata": {},
     "output_type": "execute_result"
    }
   ],
   "source": [
    "#Next step: merge prescriptions data\n",
    "prescriptions = pd.read_csv('D:/Data Repo/Mila/2018_prescriptions_summary_data.csv')\n",
    "print(prescriptions.head())\n",
    "prescriptions.shape\n",
    "\n",
    "data = pd.concat([data, prescriptions], axis=1, join=\"inner\")\n",
    "print(data.head())\n",
    "data.shape\n"
   ]
  },
  {
   "cell_type": "markdown",
   "metadata": {},
   "source": [
    "# Data Cleansing"
   ]
  },
  {
   "cell_type": "code",
   "execution_count": 81,
   "metadata": {},
   "outputs": [
    {
     "data": {
      "text/plain": [
       "(13914, 29)"
      ]
     },
     "execution_count": 81,
     "metadata": {},
     "output_type": "execute_result"
    }
   ],
   "source": [
    "#getting rid of the columns that won't be useful:\n",
    "data.columns\n",
    "\n",
    "data = data[['npi', 'money_generated', 'impressions_count','gender', 'city', 'state', 'zipcode',\n",
    "       'sole_proprietor','specialty',\n",
    "       'total_procedures', 'distinct_procedures', 'institution',\n",
    "       'derived_specialty_list', 'event_ts','impression_cost', 'cbm_id', 'publicationid',\n",
    "       'is_pii_enabled', 'hospital_city', 'hospital_state', 'hospital_zip',\n",
    "       'hospital_latitude', 'hospital_longitude', 'hospital_size',\n",
    "       'hospital_system_membership', 'total_claim_count',\n",
    "       'total_drug_cost']]\n",
    "\n",
    "data.shape"
   ]
  },
  {
   "cell_type": "code",
   "execution_count": 82,
   "metadata": {},
   "outputs": [],
   "source": [
    "#removing personally identifiable information\n",
    "data.drop(['npi'], axis=1, inplace=True)"
   ]
  },
  {
   "cell_type": "code",
   "execution_count": 83,
   "metadata": {},
   "outputs": [
    {
     "data": {
      "text/html": [
       "<div>\n",
       "<style scoped>\n",
       "    .dataframe tbody tr th:only-of-type {\n",
       "        vertical-align: middle;\n",
       "    }\n",
       "\n",
       "    .dataframe tbody tr th {\n",
       "        vertical-align: top;\n",
       "    }\n",
       "\n",
       "    .dataframe thead th {\n",
       "        text-align: right;\n",
       "    }\n",
       "</style>\n",
       "<table border=\"1\" class=\"dataframe\">\n",
       "  <thead>\n",
       "    <tr style=\"text-align: right;\">\n",
       "      <th></th>\n",
       "      <th>money_generated</th>\n",
       "      <th>impressions_count</th>\n",
       "      <th>total_procedures</th>\n",
       "      <th>distinct_procedures</th>\n",
       "      <th>impression_cost</th>\n",
       "      <th>cbm_id</th>\n",
       "      <th>hospital_zip</th>\n",
       "      <th>hospital_latitude</th>\n",
       "      <th>hospital_longitude</th>\n",
       "      <th>total_claim_count</th>\n",
       "      <th>total_drug_cost</th>\n",
       "    </tr>\n",
       "  </thead>\n",
       "  <tbody>\n",
       "    <tr>\n",
       "      <th>count</th>\n",
       "      <td>13914.000000</td>\n",
       "      <td>13914.000000</td>\n",
       "      <td>10253.000000</td>\n",
       "      <td>10253.000000</td>\n",
       "      <td>13914.000000</td>\n",
       "      <td>1.391400e+04</td>\n",
       "      <td>9214.000000</td>\n",
       "      <td>9214.000000</td>\n",
       "      <td>9214.000000</td>\n",
       "      <td>13914.00000</td>\n",
       "      <td>1.391400e+04</td>\n",
       "    </tr>\n",
       "    <tr>\n",
       "      <th>mean</th>\n",
       "      <td>0.801886</td>\n",
       "      <td>14.374012</td>\n",
       "      <td>66.848435</td>\n",
       "      <td>24.285672</td>\n",
       "      <td>0.066485</td>\n",
       "      <td>5.331762e+06</td>\n",
       "      <td>52041.199262</td>\n",
       "      <td>38.276259</td>\n",
       "      <td>-92.659593</td>\n",
       "      <td>1273.46694</td>\n",
       "      <td>1.421869e+05</td>\n",
       "    </tr>\n",
       "    <tr>\n",
       "      <th>std</th>\n",
       "      <td>6.159175</td>\n",
       "      <td>74.776296</td>\n",
       "      <td>65.111084</td>\n",
       "      <td>20.412275</td>\n",
       "      <td>0.061104</td>\n",
       "      <td>1.251608e+06</td>\n",
       "      <td>30712.346946</td>\n",
       "      <td>5.653228</td>\n",
       "      <td>17.031135</td>\n",
       "      <td>2943.21429</td>\n",
       "      <td>3.587448e+05</td>\n",
       "    </tr>\n",
       "    <tr>\n",
       "      <th>min</th>\n",
       "      <td>0.001534</td>\n",
       "      <td>1.000000</td>\n",
       "      <td>1.000000</td>\n",
       "      <td>1.000000</td>\n",
       "      <td>0.001887</td>\n",
       "      <td>1.537567e+06</td>\n",
       "      <td>918.000000</td>\n",
       "      <td>18.419300</td>\n",
       "      <td>-158.026000</td>\n",
       "      <td>11.00000</td>\n",
       "      <td>1.763000e+01</td>\n",
       "    </tr>\n",
       "    <tr>\n",
       "      <th>25%</th>\n",
       "      <td>0.016601</td>\n",
       "      <td>2.000000</td>\n",
       "      <td>22.000000</td>\n",
       "      <td>9.000000</td>\n",
       "      <td>0.004713</td>\n",
       "      <td>4.940876e+06</td>\n",
       "      <td>27262.000000</td>\n",
       "      <td>34.087500</td>\n",
       "      <td>-104.997000</td>\n",
       "      <td>54.00000</td>\n",
       "      <td>1.532315e+03</td>\n",
       "    </tr>\n",
       "    <tr>\n",
       "      <th>50%</th>\n",
       "      <td>0.073613</td>\n",
       "      <td>4.000000</td>\n",
       "      <td>46.000000</td>\n",
       "      <td>20.000000</td>\n",
       "      <td>0.051780</td>\n",
       "      <td>5.849519e+06</td>\n",
       "      <td>49307.000000</td>\n",
       "      <td>39.744800</td>\n",
       "      <td>-87.400800</td>\n",
       "      <td>206.00000</td>\n",
       "      <td>1.024302e+04</td>\n",
       "    </tr>\n",
       "    <tr>\n",
       "      <th>75%</th>\n",
       "      <td>0.366000</td>\n",
       "      <td>10.000000</td>\n",
       "      <td>111.000000</td>\n",
       "      <td>42.000000</td>\n",
       "      <td>0.113588</td>\n",
       "      <td>6.138721e+06</td>\n",
       "      <td>80524.000000</td>\n",
       "      <td>41.395800</td>\n",
       "      <td>-79.946800</td>\n",
       "      <td>1028.00000</td>\n",
       "      <td>1.107496e+05</td>\n",
       "    </tr>\n",
       "    <tr>\n",
       "      <th>max</th>\n",
       "      <td>392.581244</td>\n",
       "      <td>4392.000000</td>\n",
       "      <td>679.000000</td>\n",
       "      <td>164.000000</td>\n",
       "      <td>1.092555</td>\n",
       "      <td>7.083745e+06</td>\n",
       "      <td>99508.000000</td>\n",
       "      <td>61.210400</td>\n",
       "      <td>-66.064500</td>\n",
       "      <td>49994.00000</td>\n",
       "      <td>8.042474e+06</td>\n",
       "    </tr>\n",
       "  </tbody>\n",
       "</table>\n",
       "</div>"
      ],
      "text/plain": [
       "       money_generated  impressions_count  total_procedures  \\\n",
       "count     13914.000000       13914.000000      10253.000000   \n",
       "mean          0.801886          14.374012         66.848435   \n",
       "std           6.159175          74.776296         65.111084   \n",
       "min           0.001534           1.000000          1.000000   \n",
       "25%           0.016601           2.000000         22.000000   \n",
       "50%           0.073613           4.000000         46.000000   \n",
       "75%           0.366000          10.000000        111.000000   \n",
       "max         392.581244        4392.000000        679.000000   \n",
       "\n",
       "       distinct_procedures  impression_cost        cbm_id  hospital_zip  \\\n",
       "count         10253.000000     13914.000000  1.391400e+04   9214.000000   \n",
       "mean             24.285672         0.066485  5.331762e+06  52041.199262   \n",
       "std              20.412275         0.061104  1.251608e+06  30712.346946   \n",
       "min               1.000000         0.001887  1.537567e+06    918.000000   \n",
       "25%               9.000000         0.004713  4.940876e+06  27262.000000   \n",
       "50%              20.000000         0.051780  5.849519e+06  49307.000000   \n",
       "75%              42.000000         0.113588  6.138721e+06  80524.000000   \n",
       "max             164.000000         1.092555  7.083745e+06  99508.000000   \n",
       "\n",
       "       hospital_latitude  hospital_longitude  total_claim_count  \\\n",
       "count        9214.000000         9214.000000        13914.00000   \n",
       "mean           38.276259          -92.659593         1273.46694   \n",
       "std             5.653228           17.031135         2943.21429   \n",
       "min            18.419300         -158.026000           11.00000   \n",
       "25%            34.087500         -104.997000           54.00000   \n",
       "50%            39.744800          -87.400800          206.00000   \n",
       "75%            41.395800          -79.946800         1028.00000   \n",
       "max            61.210400          -66.064500        49994.00000   \n",
       "\n",
       "       total_drug_cost  \n",
       "count     1.391400e+04  \n",
       "mean      1.421869e+05  \n",
       "std       3.587448e+05  \n",
       "min       1.763000e+01  \n",
       "25%       1.532315e+03  \n",
       "50%       1.024302e+04  \n",
       "75%       1.107496e+05  \n",
       "max       8.042474e+06  "
      ]
     },
     "execution_count": 83,
     "metadata": {},
     "output_type": "execute_result"
    }
   ],
   "source": [
    "#resetting index\n",
    "data.reset_index()\n",
    "data.describe()"
   ]
  },
  {
   "cell_type": "markdown",
   "metadata": {},
   "source": [
    "The max for impression_cost and count looks unrealistic. It's likely that the opens generated by a robot.Might need to look at the overall distribution.Hospital zip is likely an object, but it's treated like an integer. Data type needs to be changed."
   ]
  },
  {
   "cell_type": "code",
   "execution_count": 85,
   "metadata": {},
   "outputs": [
    {
     "data": {
      "text/plain": [
       "money_generated               float64\n",
       "impressions_count               int64\n",
       "gender                         object\n",
       "city                           object\n",
       "state                          object\n",
       "zipcode                        object\n",
       "sole_proprietor                object\n",
       "specialty                      object\n",
       "total_procedures              float64\n",
       "distinct_procedures           float64\n",
       "institution                    object\n",
       "derived_specialty_list         object\n",
       "event_ts                       object\n",
       "impression_cost               float64\n",
       "cbm_id                          int64\n",
       "publicationid                  object\n",
       "is_pii_enabled                 object\n",
       "hospital_city                  object\n",
       "hospital_state                 object\n",
       "hospital_zip                  float64\n",
       "hospital_latitude             float64\n",
       "hospital_longitude            float64\n",
       "hospital_size                  object\n",
       "hospital_system_membership     object\n",
       "total_claim_count               int64\n",
       "total_drug_cost               float64\n",
       "dtype: object"
      ]
     },
     "execution_count": 85,
     "metadata": {},
     "output_type": "execute_result"
    }
   ],
   "source": [
    "data.dtypes"
   ]
  },
  {
   "cell_type": "code",
   "execution_count": 86,
   "metadata": {},
   "outputs": [
    {
     "data": {
      "text/plain": [
       "money_generated               float64\n",
       "impressions_count               int64\n",
       "gender                         object\n",
       "city                           object\n",
       "state                          object\n",
       "zipcode                        object\n",
       "sole_proprietor                object\n",
       "specialty                      object\n",
       "total_procedures              float64\n",
       "distinct_procedures           float64\n",
       "institution                    object\n",
       "derived_specialty_list         object\n",
       "event_ts                       object\n",
       "impression_cost               float64\n",
       "cbm_id                          int64\n",
       "publicationid                  object\n",
       "is_pii_enabled                 object\n",
       "hospital_city                  object\n",
       "hospital_state                 object\n",
       "hospital_zip                   object\n",
       "hospital_latitude             float64\n",
       "hospital_longitude            float64\n",
       "hospital_size                  object\n",
       "hospital_system_membership     object\n",
       "total_claim_count               int64\n",
       "total_drug_cost               float64\n",
       "dtype: object"
      ]
     },
     "execution_count": 86,
     "metadata": {},
     "output_type": "execute_result"
    }
   ],
   "source": [
    "data['hospital_zip'] = data['hospital_zip'].astype(str)\n",
    "data.dtypes"
   ]
  },
  {
   "cell_type": "code",
   "execution_count": 87,
   "metadata": {
    "scrolled": true
   },
   "outputs": [
    {
     "name": "stdout",
     "output_type": "stream",
     "text": [
      "<class 'pandas.core.frame.DataFrame'>\n",
      "Int64Index: 13914 entries, 0 to 13913\n",
      "Data columns (total 26 columns):\n",
      " #   Column                      Non-Null Count  Dtype  \n",
      "---  ------                      --------------  -----  \n",
      " 0   money_generated             13914 non-null  float64\n",
      " 1   impressions_count           13914 non-null  int64  \n",
      " 2   gender                      2041 non-null   object \n",
      " 3   city                        13327 non-null  object \n",
      " 4   state                       13313 non-null  object \n",
      " 5   zipcode                     13342 non-null  object \n",
      " 6   sole_proprietor             13869 non-null  object \n",
      " 7   specialty                   13914 non-null  object \n",
      " 8   total_procedures            10253 non-null  float64\n",
      " 9   distinct_procedures         10253 non-null  float64\n",
      " 10  institution                 1277 non-null   object \n",
      " 11  derived_specialty_list      13014 non-null  object \n",
      " 12  event_ts                    13914 non-null  object \n",
      " 13  impression_cost             13914 non-null  float64\n",
      " 14  cbm_id                      13914 non-null  int64  \n",
      " 15  publicationid               13914 non-null  object \n",
      " 16  is_pii_enabled              13914 non-null  object \n",
      " 17  hospital_city               9214 non-null   object \n",
      " 18  hospital_state              9214 non-null   object \n",
      " 19  hospital_zip                13914 non-null  object \n",
      " 20  hospital_latitude           9214 non-null   float64\n",
      " 21  hospital_longitude          9214 non-null   float64\n",
      " 22  hospital_size               9214 non-null   object \n",
      " 23  hospital_system_membership  6363 non-null   object \n",
      " 24  total_claim_count           13914 non-null  int64  \n",
      " 25  total_drug_cost             13914 non-null  float64\n",
      "dtypes: float64(7), int64(3), object(16)\n",
      "memory usage: 2.9+ MB\n",
      "None\n"
     ]
    }
   ],
   "source": [
    "#exploring NULL values\n",
    "print(data.info())"
   ]
  },
  {
   "cell_type": "markdown",
   "metadata": {},
   "source": [
    "From the above, it looks like most records are missing gender info as well as institution. We'll drop these columns.\n",
    "In addition hospital membembership is missing half of the values. Let's see if this an empty cell means the value is truly missing"
   ]
  },
  {
   "cell_type": "code",
   "execution_count": 88,
   "metadata": {},
   "outputs": [
    {
     "data": {
      "text/plain": [
       "array([nan, 'Y'], dtype=object)"
      ]
     },
     "execution_count": 88,
     "metadata": {},
     "output_type": "execute_result"
    }
   ],
   "source": [
    "data['hospital_system_membership'].unique()"
   ]
  },
  {
   "cell_type": "markdown",
   "metadata": {},
   "source": [
    "It turns out that NaN in this case means that the hospital is not a member of a larger hospital system, so there is no need to get rid of this column. However, 'Y' must be recoded later."
   ]
  },
  {
   "cell_type": "code",
   "execution_count": 89,
   "metadata": {},
   "outputs": [
    {
     "data": {
      "text/plain": [
       "(13914, 24)"
      ]
     },
     "execution_count": 89,
     "metadata": {},
     "output_type": "execute_result"
    }
   ],
   "source": [
    "#dropping columns with a lot of missing values\n",
    "data.drop(['gender', 'institution'], axis=1,inplace=True)\n",
    "data.shape"
   ]
  },
  {
   "cell_type": "markdown",
   "metadata": {},
   "source": [
    "Let's explore the distributions of our continious variables and see if we have outliers"
   ]
  },
  {
   "cell_type": "code",
   "execution_count": 90,
   "metadata": {},
   "outputs": [
    {
     "data": {
      "image/png": "[encoded data removed]",
      "text/plain": [
       "<Figure size 720x720 with 1 Axes>"
      ]
     },
     "metadata": {
      "needs_background": "light"
     },
     "output_type": "display_data"
    }
   ],
   "source": [
    "plt.figure(figsize=(10,10))\n",
    "plt.title('Distribution of Money Generated',fontsize=15)\n",
    "plt.hist(data['money_generated'], bins=20)\n",
    "plt.show()"
   ]
  },
  {
   "cell_type": "code",
   "execution_count": 91,
   "metadata": {},
   "outputs": [
    {
     "name": "stdout",
     "output_type": "stream",
     "text": [
      "0.001534\n",
      "392.5812440000003\n",
      "0.8018862332183392\n",
      "6.159175125090951\n"
     ]
    },
    {
     "data": {
      "text/plain": [
       "2.538085899999997"
      ]
     },
     "execution_count": 91,
     "metadata": {},
     "output_type": "execute_result"
    }
   ],
   "source": [
    "print(data['money_generated'].min())\n",
    "print(data['money_generated'].max())\n",
    "print(data['money_generated'].mean())\n",
    "print(data['money_generated'].std())\n",
    "data['money_generated'].quantile(q=0.95)"
   ]
  },
  {
   "cell_type": "markdown",
   "metadata": {},
   "source": [
    "Looks like the target variable's statistics is distorted by an extreme outlier: max is 392 dollars, the mean is 80 dollars, whereas 90% of the sample contributed no more than 2.54 dollars. The max of 392 dollarscorresponds to 4,392 impressions. It's possible that this data point was generated by a bot or some software, not by human. We'll get rid of this outlier by limiting our dataset to only those falling within the 95th percentile. "
   ]
  },
  {
   "cell_type": "code",
   "execution_count": 92,
   "metadata": {},
   "outputs": [],
   "source": [
    "data = data.loc[(data['money_generated'] <=2.54)]"
   ]
  },
  {
   "cell_type": "code",
   "execution_count": 93,
   "metadata": {},
   "outputs": [
    {
     "name": "stdout",
     "output_type": "stream",
     "text": [
      "(13220, 24)\n"
     ]
    }
   ],
   "source": [
    "print(data.shape)"
   ]
  },
  {
   "cell_type": "markdown",
   "metadata": {},
   "source": [
    "Thus, we have filtered out about 700 practitioners. Let's explore the distribution again."
   ]
  },
  {
   "cell_type": "code",
   "execution_count": 105,
   "metadata": {},
   "outputs": [
    {
     "data": {
      "image/png": "[encoded data removed]",
      "text/plain": [
       "<Figure size 720x720 with 1 Axes>"
      ]
     },
     "metadata": {
      "needs_background": "light"
     },
     "output_type": "display_data"
    },
    {
     "name": "stdout",
     "output_type": "stream",
     "text": [
      "0.001534\n",
      "2.5394520000000003\n",
      "0.2577195036308629\n",
      "0.4377620284117259\n"
     ]
    }
   ],
   "source": [
    "import matplotlib.pyplot as plt\n",
    "plt.figure(figsize=(10,10))\n",
    "plt.title('Distribution of Money Generated',fontsize=15)\n",
    "plt.xlabel('USD',fontsize=10)\n",
    "plt.ylabel('Frequency',fontsize=10)\n",
    "plt.hist(data['money_generated'], bins=15)\n",
    "plt.show()\n",
    "print(data['money_generated'].min())\n",
    "print(data['money_generated'].max())\n",
    "print(data['money_generated'].mean())\n",
    "print(data['money_generated'].std())"
   ]
  },
  {
   "cell_type": "markdown",
   "metadata": {},
   "source": [
    "The data is still highly skewed to the right. One commonly applied method to normalize this type of distribution is to log-transform the original values. Let's create an additional column where we transform the values of 'money_generated' into their natural logarithmic values with a base of 10. "
   ]
  },
  {
   "cell_type": "code",
   "execution_count": 101,
   "metadata": {},
   "outputs": [],
   "source": [
    "import numpy as np\n",
    "data['money_generated_log'] = np.log10(data['money_generated'])"
   ]
  },
  {
   "cell_type": "code",
   "execution_count": 106,
   "metadata": {},
   "outputs": [
    {
     "data": {
      "image/png": "[encoded data removed]",
      "text/plain": [
       "<Figure size 720x720 with 1 Axes>"
      ]
     },
     "metadata": {
      "needs_background": "light"
     },
     "output_type": "display_data"
    }
   ],
   "source": [
    "plt.figure(figsize=(10,10))\n",
    "plt.xlabel('USD Log10',fontsize=10)\n",
    "plt.ylabel('Frequency',fontsize=10)\n",
    "plt.title('Distribution of Money Generated (log10)',fontsize=15)\n",
    "plt.hist(data['money_generated_log'], bins=25)\n",
    "plt.show()"
   ]
  },
  {
   "cell_type": "markdown",
   "metadata": {},
   "source": [
    "While the resulting distribution is still far from looking normal, despite multimodality it now looks a lot better. Let's continue exploring the remaining variables."
   ]
  },
  {
   "cell_type": "code",
   "execution_count": 113,
   "metadata": {},
   "outputs": [
    {
     "data": {
      "image/png": "[encoded data removed]",
      "text/plain": [
       "<Figure size 576x576 with 1 Axes>"
      ]
     },
     "metadata": {
      "needs_background": "light"
     },
     "output_type": "display_data"
    },
    {
     "data": {
      "image/png": "[encoded data removed]",
      "text/plain": [
       "<Figure size 576x576 with 1 Axes>"
      ]
     },
     "metadata": {
      "needs_background": "light"
     },
     "output_type": "display_data"
    },
    {
     "data": {
      "image/png": "[encoded data removed]",
      "text/plain": [
       "<Figure size 576x576 with 1 Axes>"
      ]
     },
     "metadata": {
      "needs_background": "light"
     },
     "output_type": "display_data"
    },
    {
     "data": {
      "image/png": "[encoded data removed]",
      "text/plain": [
       "<Figure size 1152x576 with 1 Axes>"
      ]
     },
     "metadata": {
      "needs_background": "light"
     },
     "output_type": "display_data"
    }
   ],
   "source": [
    "plt.figure(figsize=(8,8))\n",
    "plt.xlabel('Total Procedures Performed, count',fontsize=10)\n",
    "plt.ylabel('Frequency',fontsize=10)\n",
    "plt.title('Distribution of Total Procedures Count)',fontsize=15)\n",
    "plt.hist(data['total_procedures'], bins=25)\n",
    "plt.show()\n",
    "\n",
    "plt.figure(figsize=(8,8))\n",
    "plt.xlabel('Distinct Procedures Performed, count',fontsize=10)\n",
    "plt.ylabel('Frequency',fontsize=10)\n",
    "plt.title('Distribution of Total Procedures Count)',fontsize=15)\n",
    "plt.hist(data['distinct_procedures'], bins=25)\n",
    "plt.show()\n",
    "\n",
    "\n",
    "plt.figure(figsize=(8,8))\n",
    "plt.xlabel('Total Drugs Prescribed, count',fontsize=10)\n",
    "plt.ylabel('Frequency',fontsize=10)\n",
    "plt.title('Distribution of Total Drugs Prescribed)',fontsize=15)\n",
    "plt.hist(data['total_claim_count'], bins=25)\n",
    "plt.show()\n",
    "\n",
    "plt.figure(figsize=(16,8))\n",
    "plt.xlabel('Total Prescriptions Cost, USD',fontsize=10)\n",
    "plt.ylabel('Frequency',fontsize=10)\n",
    "plt.title('Distribution of Total Prescriptions Cost)',fontsize=15)\n",
    "plt.hist(data['total_drug_cost'], bins=25)\n",
    "plt.show()"
   ]
  },
  {
   "cell_type": "markdown",
   "metadata": {},
   "source": [
    "It appears that all the continious variables repeat the same distribution pattern as 'Money_Generated'. We'll log-transform them in the next step. In the meantime, the chart indicates the presence of extreme outliers in the 'total_drug_cost' variable that might tremendously distort its measures of central tendency"
   ]
  },
  {
   "cell_type": "code",
   "execution_count": 115,
   "metadata": {},
   "outputs": [
    {
     "name": "stdout",
     "output_type": "stream",
     "text": [
      "17.63\n",
      "8042473.68\n",
      "142181.62685854768\n",
      "360671.04838664475\n"
     ]
    },
    {
     "data": {
      "text/plain": [
       "712087.7774999995"
      ]
     },
     "execution_count": 115,
     "metadata": {},
     "output_type": "execute_result"
    }
   ],
   "source": [
    "print(data['total_drug_cost'].min())\n",
    "print(data['total_drug_cost'].max())\n",
    "print(data['total_drug_cost'].mean())\n",
    "print(data['total_drug_cost'].std())\n",
    "data['total_drug_cost'].quantile(q=0.95)"
   ]
  },
  {
   "cell_type": "markdown",
   "metadata": {},
   "source": [
    "Indeed, the max total cost of all drugs prescribed is 8M USD, whereas 95% of the sample prescribed drugs that cost less than 800K USD in total. Let's remove these outliers:"
   ]
  },
  {
   "cell_type": "code",
   "execution_count": 116,
   "metadata": {},
   "outputs": [
    {
     "data": {
      "text/plain": [
       "(12559, 25)"
      ]
     },
     "execution_count": 116,
     "metadata": {},
     "output_type": "execute_result"
    }
   ],
   "source": [
    "data = data.loc[(data['total_drug_cost'] <=712088)]\n",
    "data.shape"
   ]
  },
  {
   "cell_type": "code",
   "execution_count": 117,
   "metadata": {},
   "outputs": [
    {
     "data": {
      "image/png": "[encoded data removed]",
      "text/plain": [
       "<Figure size 1152x576 with 1 Axes>"
      ]
     },
     "metadata": {
      "needs_background": "light"
     },
     "output_type": "display_data"
    },
    {
     "name": "stdout",
     "output_type": "stream",
     "text": [
      "17.63\n",
      "712053.36\n",
      "77308.99842742263\n",
      "142433.19770742767\n"
     ]
    }
   ],
   "source": [
    "plt.figure(figsize=(16,8))\n",
    "plt.xlabel('Total Prescriptions Cost, USD',fontsize=10)\n",
    "plt.ylabel('Frequency',fontsize=10)\n",
    "plt.title('Distribution of Total Prescriptions Cost)',fontsize=15)\n",
    "plt.hist(data['total_drug_cost'], bins=25)\n",
    "plt.show()\n",
    "print(data['total_drug_cost'].min())\n",
    "print(data['total_drug_cost'].max())\n",
    "print(data['total_drug_cost'].mean())\n",
    "print(data['total_drug_cost'].std())"
   ]
  },
  {
   "cell_type": "markdown",
   "metadata": {},
   "source": [
    "Indeed, the removal of only 5% of the sample lowered the mean by 50%! The distribution is still very skewed, so let's proceed with the log transformation of the variables. "
   ]
  },
  {
   "cell_type": "code",
   "execution_count": 118,
   "metadata": {},
   "outputs": [],
   "source": [
    "data['total_procedures_log'] = np.log10(data['total_procedures'])\n",
    "data['distinct_procedures_log'] = np.log10(data['distinct_procedures'])\n",
    "data['total_claim_count_log'] = np.log10(data['total_claim_count'])\n",
    "data['total_drug_cost_log'] = np.log10(data['total_drug_cost'])"
   ]
  },
  {
   "cell_type": "code",
   "execution_count": 119,
   "metadata": {},
   "outputs": [
    {
     "data": {
      "image/png": "[encoded data removed]",
      "text/plain": [
       "<Figure size 576x576 with 1 Axes>"
      ]
     },
     "metadata": {
      "needs_background": "light"
     },
     "output_type": "display_data"
    },
    {
     "data": {
      "image/png": "[encoded data removed]",
      "text/plain": [
       "<Figure size 576x576 with 1 Axes>"
      ]
     },
     "metadata": {
      "needs_background": "light"
     },
     "output_type": "display_data"
    },
    {
     "data": {
      "image/png": "[encoded data removed]",
      "text/plain": [
       "<Figure size 576x576 with 1 Axes>"
      ]
     },
     "metadata": {
      "needs_background": "light"
     },
     "output_type": "display_data"
    },
    {
     "data": {
      "image/png": "[encoded data removed]",
      "text/plain": [
       "<Figure size 1152x576 with 1 Axes>"
      ]
     },
     "metadata": {
      "needs_background": "light"
     },
     "output_type": "display_data"
    }
   ],
   "source": [
    "plt.figure(figsize=(8,8))\n",
    "plt.xlabel('Total Procedures Performed, count(log10)',fontsize=10)\n",
    "plt.ylabel('Frequency',fontsize=10)\n",
    "plt.title('Distribution of Total Procedures Count(log10)',fontsize=15)\n",
    "plt.hist(data['total_procedures_log'], bins=25)\n",
    "plt.show()\n",
    "\n",
    "plt.figure(figsize=(8,8))\n",
    "plt.xlabel('Distinct Procedures Performed, count(log10)',fontsize=10)\n",
    "plt.ylabel('Frequency',fontsize=10)\n",
    "plt.title('Distribution of Total Procedures Count(log10)',fontsize=15)\n",
    "plt.hist(data['distinct_procedures_log'], bins=25)\n",
    "plt.show()\n",
    "\n",
    "\n",
    "plt.figure(figsize=(8,8))\n",
    "plt.xlabel('Total Drugs Prescribed, count(log10',fontsize=10)\n",
    "plt.ylabel('Frequency',fontsize=10)\n",
    "plt.title('Distribution of Total Drugs Prescribed (log10)',fontsize=15)\n",
    "plt.hist(data['total_claim_count_log'], bins=25)\n",
    "plt.show()\n",
    "\n",
    "plt.figure(figsize=(16,8))\n",
    "plt.xlabel('Total Prescriptions Cost, USD(log10)',fontsize=10)\n",
    "plt.ylabel('Frequency',fontsize=10)\n",
    "plt.title('Distribution of Total Prescriptions Cost(log10)',fontsize=15)\n",
    "plt.hist(data['total_drug_cost_log'], bins=25)\n",
    "plt.show()"
   ]
  },
  {
   "cell_type": "markdown",
   "metadata": {},
   "source": [
    "The new distributions look a lot better!"
   ]
  },
  {
   "cell_type": "markdown",
   "metadata": {},
   "source": [
    "Let's explore categorical variables to see if they need any transformations."
   ]
  },
  {
   "cell_type": "code",
   "execution_count": 128,
   "metadata": {},
   "outputs": [
    {
     "name": "stdout",
     "output_type": "stream",
     "text": [
      "['NH' 'VT' 'MA' 'CT' 'FL' 'NY' 'NJ' nan 'PA' 'DE' 'MD' 'DC' 'VA' 'WV' 'NC'\n",
      " 'GA' 'SC' 'WA' 'OH' 'IN' 'MO' 'IL' 'MI' 'OR' 'WI' 'KY' 'TN' 'AL' 'MN'\n",
      " 'NM' 'AR' 'TX' 'CO' 'AZ' 'UT' 'CA' 'BC' 'AK' 'NV' 'KS' 'RI' 'MS' 'OK'\n",
      " 'IA' 'HI' 'SD' 'NE' 'LA' 'ID' 'WY' 'MT' 'PR' 'ME' 'ON' 'ND' 'VIC']\n"
     ]
    }
   ],
   "source": [
    "print(data['state'].unique())"
   ]
  },
  {
   "cell_type": "markdown",
   "metadata": {},
   "source": [
    "state 'VIC' looks suspicious"
   ]
  },
  {
   "cell_type": "code",
   "execution_count": 129,
   "metadata": {},
   "outputs": [
    {
     "name": "stdout",
     "output_type": "stream",
     "text": [
      "      money_generated  impressions_count       city state zipcode  \\\n",
      "8342         0.064455                  1  Parkville   VIC    3050   \n",
      "8602         0.012689                  4  Parkville   VIC    3052   \n",
      "8603         0.003155                  1  Parkville   VIC    3052   \n",
      "\n",
      "     sole_proprietor                                   specialty  \\\n",
      "8342               N  Internal Medicine - Cardiovascular Disease   \n",
      "8602               N                          Emergency Medicine   \n",
      "8603               N                          Emergency Medicine   \n",
      "\n",
      "      total_procedures  distinct_procedures derived_specialty_list  ...  \\\n",
      "8342               NaN                  NaN                  CD,IM  ...   \n",
      "8602               NaN                  NaN                     EM  ...   \n",
      "8603               NaN                  NaN                     EM  ...   \n",
      "\n",
      "     hospital_longitude  hospital_size  hospital_system_membership  \\\n",
      "8342                NaN            NaN                         NaN   \n",
      "8602           -71.4965          Small                         NaN   \n",
      "8603           -71.4965          Small                         NaN   \n",
      "\n",
      "     total_claim_count total_drug_cost money_generated_log  \\\n",
      "8342               395        11854.98           -1.190743   \n",
      "8602              8449       446181.77           -1.896573   \n",
      "8603               328        38679.35           -2.501001   \n",
      "\n",
      "     total_procedures_log  distinct_procedures_log  total_claim_count_log  \\\n",
      "8342                  NaN                      NaN               2.596597   \n",
      "8602                  NaN                      NaN               3.926805   \n",
      "8603                  NaN                      NaN               2.515874   \n",
      "\n",
      "      total_drug_cost_log  \n",
      "8342             4.073901  \n",
      "8602             5.649512  \n",
      "8603             4.587479  \n",
      "\n",
      "[3 rows x 29 columns]\n"
     ]
    }
   ],
   "source": [
    "print(data.loc[data['state']=='VIC'])"
   ]
  },
  {
   "cell_type": "markdown",
   "metadata": {},
   "source": [
    "Turns out that Parkville, VIC is located in Australia. We are interested in US recipients, so we'll drop these rows"
   ]
  },
  {
   "cell_type": "code",
   "execution_count": 130,
   "metadata": {},
   "outputs": [],
   "source": [
    "data = data.drop([8342, 8602, 8603])"
   ]
  },
  {
   "cell_type": "code",
   "execution_count": 131,
   "metadata": {},
   "outputs": [
    {
     "name": "stdout",
     "output_type": "stream",
     "text": [
      "['NH' 'VT' 'MA' 'CT' 'FL' 'NY' 'NJ' nan 'PA' 'DE' 'MD' 'DC' 'VA' 'WV' 'NC'\n",
      " 'GA' 'SC' 'WA' 'OH' 'IN' 'MO' 'IL' 'MI' 'OR' 'WI' 'KY' 'TN' 'AL' 'MN'\n",
      " 'NM' 'AR' 'TX' 'CO' 'AZ' 'UT' 'CA' 'BC' 'AK' 'NV' 'KS' 'RI' 'MS' 'OK'\n",
      " 'IA' 'HI' 'SD' 'NE' 'LA' 'ID' 'WY' 'MT' 'PR' 'ME' 'ON' 'ND']\n"
     ]
    }
   ],
   "source": [
    "print(data['state'].unique())"
   ]
  },
  {
   "cell_type": "markdown",
   "metadata": {},
   "source": [
    "This looks better. Moving onto the next variable, 'sole_proprietor' which reflects whether the doctor owns the practice they work at."
   ]
  },
  {
   "cell_type": "code",
   "execution_count": 132,
   "metadata": {},
   "outputs": [
    {
     "name": "stdout",
     "output_type": "stream",
     "text": [
      "N    9795\n",
      "Y    2648\n",
      "X      73\n",
      "Name: sole_proprietor, dtype: int64\n"
     ]
    }
   ],
   "source": [
    "print(data['sole_proprietor'].value_counts())"
   ]
  },
  {
   "cell_type": "markdown",
   "metadata": {},
   "source": [
    "We see value X which I suspect can indicate a checkbox checked. So let's recode these values into 'Y'"
   ]
  },
  {
   "cell_type": "code",
   "execution_count": 133,
   "metadata": {},
   "outputs": [
    {
     "name": "stdout",
     "output_type": "stream",
     "text": [
      "N    9795\n",
      "Y    2721\n",
      "Name: sole_proprietor, dtype: int64\n"
     ]
    }
   ],
   "source": [
    "data['sole_proprietor'].replace({'X':'Y'}, inplace=True)\n",
    "print(data['sole_proprietor'].value_counts())"
   ]
  },
  {
   "cell_type": "markdown",
   "metadata": {},
   "source": [
    "Let's move onto Specialty."
   ]
  },
  {
   "cell_type": "code",
   "execution_count": 134,
   "metadata": {},
   "outputs": [
    {
     "name": "stdout",
     "output_type": "stream",
     "text": [
      "Internal Medicine                                                 2088\n",
      "Urology                                                            698\n",
      "Internal Medicine - Cardiovascular Disease                         695\n",
      "Student in an Organized Health Care Education/Training Program     588\n",
      "Family Medicine                                                    529\n",
      "                                                                  ... \n",
      "Nurse Practitioner - Women`s Health                                  1\n",
      "Internal Medicine - Addiction Medicine                               1\n",
      "Pediatrics - Adolescent Medicine                                     1\n",
      "MS Genetic Counselor                                                 1\n",
      "Physical Medicine and Rehabilitation - Brain Injury Medicine         1\n",
      "Name: specialty, Length: 188, dtype: int64\n"
     ]
    }
   ],
   "source": [
    "print(data['specialty'].value_counts())"
   ]
  },
  {
   "cell_type": "markdown",
   "metadata": {},
   "source": [
    "188 distinct specialties sounds like too many for a meaningful analysis.The format of this variable is \"Broad Specialty - Specialization\". We'll get rid of specializations and group doctors by broader practice areas. On the other hand, 'Internal Medicine' seems to be too broad, let's see how many distinct specialties there are. "
   ]
  },
  {
   "cell_type": "code",
   "execution_count": 136,
   "metadata": {},
   "outputs": [
    {
     "name": "stdout",
     "output_type": "stream",
     "text": [
      "Internal Medicine                                            2088\n",
      "Internal Medicine - Cardiovascular Disease                    695\n",
      "Internal Medicine - Gastroenterology                          504\n",
      "Internal Medicine - Geriatric Medicine                        438\n",
      "Internal Medicine - Pulmonary Disease                         339\n",
      "Internal Medicine - Hematology and Oncology                   324\n",
      "Internal Medicine - Infectious Disease                        252\n",
      "Internal Medicine - Interventional Cardiology                 201\n",
      "Internal Medicine - Bariatric Medicine                        162\n",
      "Internal Medicine - Critical Care Medicine                    157\n",
      "Internal Medicine - Nephrology                                111\n",
      "Internal Medicine - Diabetes and Metabolism Endocrinology     105\n",
      "Internal Medicine - Medical Oncology                           94\n",
      "Internal Medicine - Clinical Cardiac Electrophysiology         31\n",
      "Internal Medicine - Rheumatology                               30\n",
      "Internal Medicine - Sleep Medicine                             27\n",
      "Internal Medicine - Hepatology                                 17\n",
      "Internal Medicine - Hospice and Palliative Medicine            15\n",
      "Internal Medicine - Sports Medicine                             6\n",
      "Internal Medicine - Hematology                                  6\n",
      "Internal Medicine - Addiction Medicine                          1\n",
      "Internal Medicine - Allergy and Immunology                      1\n",
      "Internal Medicine - Adult Congenital Heart Disease              1\n",
      "Name: specialty, dtype: int64\n"
     ]
    }
   ],
   "source": [
    "internal_medicine = data[data.specialty.str.startswith('Internal')]\n",
    "print(internal_medicine['specialty'].value_counts())\n"
   ]
  },
  {
   "cell_type": "markdown",
   "metadata": {},
   "source": [
    "Let's recode some of the frequent values into separate specialties:"
   ]
  },
  {
   "cell_type": "code",
   "execution_count": 137,
   "metadata": {},
   "outputs": [],
   "source": [
    "data.replace({'specialty' : {'Internal Medicine - Cardiovascular Disease': 'Cardiology',\n",
    "                             'Internal Medicine - Gastroenterology': 'Gastroenterology',\n",
    "                             'Internal Medicine - Geriatric Medicine': 'Geriatric Medicine',\n",
    "                             'Internal Medicine - Pulmonary Disease': 'Pulmonolgy',\n",
    "                             'Internal Medicine - Hematology and Oncology': 'Hematology and Oncology',\n",
    "                             'Internal Medicine - Infectious Disease': 'Infectious Disease',\n",
    "                             'Internal Medicine - Interventional Cardiology': 'Cardiology',\n",
    "                             'Internal Medicine - Bariatric Medicine': 'Bariatric Medicine',\n",
    "                             'Internal Medicine - Critical Care Medicine': 'Emergency Medicine',\n",
    "                             'Internal Medicine - Nephrology': 'Nephrology',\n",
    "                             'Internal Medicine - Diabetes and Metabolism Endocrinology': 'Endocrinology',\n",
    "                             'Internal Medicine - Medical Oncology': 'Hematology and Oncology',\n",
    "                             'Internal Medicine - Clinical Cardiac Electrophysiology':'Cardiology',\n",
    "                             'Internal Medicine - Rheumatology': 'Rheumatology',\n",
    "                             'Internal Medicine - Sports Medicine':'Sports Medicine',\n",
    "                             'Internal Medicine - Hematology':'Hematology and Oncology',\n",
    "                             'Internal Medicine - Adult Congenital Heart Disease':'Cardiology'\n",
    "                             \n",
    "                             \n",
    "                             \n",
    "                             \n",
    "                             \n",
    "                             \n",
    "                             \n",
    "}}, inplace=True)"
   ]
  },
  {
   "cell_type": "code",
   "execution_count": 138,
   "metadata": {},
   "outputs": [],
   "source": [
    "data['specialty'] = data['specialty'].str.split(' -',1).str[0]"
   ]
  },
  {
   "cell_type": "code",
   "execution_count": 139,
   "metadata": {},
   "outputs": [
    {
     "name": "stdout",
     "output_type": "stream",
     "text": [
      "66\n",
      "Internal Medicine                                                 2149\n",
      "Cardiology                                                         928\n",
      "Urology                                                            715\n",
      "Emergency Medicine                                                 659\n",
      "Student in an Organized Health Care Education/Training Program     588\n",
      "                                                                  ... \n",
      "Chiropractor                                                         1\n",
      "MS Genetic Counselor                                                 1\n",
      "Audiologist                                                          1\n",
      "Specialist/Technologist                                              1\n",
      "Legal Medicine                                                       1\n",
      "Name: specialty, Length: 66, dtype: int64\n"
     ]
    }
   ],
   "source": [
    "specialty_list = data['specialty'].unique()\n",
    "print(len(specialty_list))\n",
    "print(data['specialty'].value_counts())"
   ]
  },
  {
   "cell_type": "code",
   "execution_count": 140,
   "metadata": {},
   "outputs": [
    {
     "data": {
      "text/plain": [
       "array(['Cardiology', 'Physician Assistant', 'Internal Medicine',\n",
       "       'Bariatric Medicine', 'Hematology and Oncology',\n",
       "       'Psychiatry and Neurology', 'Dermatology', 'Emergency Medicine',\n",
       "       'Pathology', 'Urology', 'Radiology', 'Gastroenterology',\n",
       "       'Hospitalist', 'Endocrinology',\n",
       "       'Student in an Organized Health Care Education/Training Program',\n",
       "       'Nephrology', 'Pulmonolgy', 'Surgery', 'Anesthesiology',\n",
       "       'Specialist', 'Registered Nurse',\n",
       "       'Certified Registered Nurse Anesthetist', 'Rheumatology',\n",
       "       'Obstetrics and Gynecology', 'Preventive Medicine',\n",
       "       'Geriatric Medicine', 'General Acute Care Hospital', 'Optometrist',\n",
       "       'Family Medicine', 'Colon and Rectal Surgery',\n",
       "       'Nurse Practitioner', 'Infectious Disease', 'General Practice',\n",
       "       'Prevention Professional', 'Pharmacist', 'Pediatrics',\n",
       "       'Physical Therapist', 'Pharmacy Technician', 'Ophthalmology',\n",
       "       'Allergy and Immunology', 'Physical Medicine and Rehabilitation',\n",
       "       'Advanced Heart Failure & Transplant Cardiology', 'Podiatrist',\n",
       "       'Otolaryngology', 'Orthopaedic Surgery',\n",
       "       'Oral and Maxillofacial Surgery',\n",
       "       'Neuromusculoskeletal Medicine Sports Medicine',\n",
       "       'Nuclear Medicine', 'Sports Medicine', 'Legal Medicine', 'Dentist',\n",
       "       'Neurological Surgery', 'Speech-Language Pathologist',\n",
       "       'Pain Medicine', 'Clinical Nurse Specialist', 'Chiropractor',\n",
       "       'MS Genetic Counselor', 'Plastic Surgery',\n",
       "       'Female Pelvic Medicine and Reconstructive Surgery',\n",
       "       'Medical Genetics',\n",
       "       'Thoracic Surgery (Cardiothoracic Vascular Surgery)',\n",
       "       'Personal Emergency Response Attendant', 'Transplant Surgery',\n",
       "       'Audiologist', 'Rehabilitation Practitioner',\n",
       "       'Specialist/Technologist'], dtype=object)"
      ]
     },
     "execution_count": 140,
     "metadata": {},
     "output_type": "execute_result"
    }
   ],
   "source": [
    "data['specialty'].unique()"
   ]
  },
  {
   "cell_type": "markdown",
   "metadata": {},
   "source": [
    "Let's combine some of the values that are within the same treatment areas, e.g group all surgeons and nurses to reduce the count of categories"
   ]
  },
  {
   "cell_type": "code",
   "execution_count": 141,
   "metadata": {},
   "outputs": [],
   "source": [
    "data.replace({'specialty' : { 'Certified Registered Nurse Anesthetist' :'Nurse/PA/Technician', \n",
    "                             'Clinical Nurse Specialist' : 'Nurse/PA/Technician', 'Physician Assistant' : 'Nurse/PA/Technician',\n",
    "                          'Nurse Practitioner':'Nurse/PA/Technician', 'Registered Nurse': 'Nurse/PA/Technician',\n",
    "                           'Specialist': 'Nurse/PA/Technician', 'Specialist/Technologist':'Nurse/PA/Technician',\n",
    "                            'Colon and Rectal Surgery':'Surgery', 'Female Pelvic Medicine and Reconstructive Surgery':'Surgery',\n",
    "                             'Neurological Surgery':'Surgery','Oral and Maxillofacial Surgery':'Surgery',\n",
    "                             'Orthopaedic Surgery':'Surgery','Plastic Surgery':'Surgery',\n",
    "                             'Thoracic Surgery (Cardiothoracic Vascular Surgery)':'Surgery','Transplant Surgery':'Surgery',\n",
    "                             'Personal Emergency Response Attendant':'Emergency Medicine',\n",
    "                             'MS Genetic Counselor':'Medical Genetics',\n",
    "                             'Neuromusculoskeletal Medicine Sports Medicine':'Sports Medicine',\n",
    "                             'Optometrist':'Ophthalmology', \n",
    "                             'Speech-Language Pathologist':'Pathology', \n",
    "                             'Pharmacy Technician':'Pharmacist',\n",
    "                             'Physical Medicine and Rehabilitation':'Physical Therapist',\n",
    "                             'Rehabilitation Practitioner':'Physical Therapist',\n",
    "                             'Prevention Professional':'Preventive Medicine',\n",
    "                             'Student in an Organized Health Care Education/Training Program': 'Student',\n",
    "                             'Advanced Heart Failure & Transplant Cardiology': 'Cardiology'\n",
    "}}, inplace=True)"
   ]
  },
  {
   "cell_type": "code",
   "execution_count": 142,
   "metadata": {},
   "outputs": [
    {
     "name": "stdout",
     "output_type": "stream",
     "text": [
      "42\n",
      "Internal Medicine              2149\n",
      "Cardiology                      942\n",
      "Urology                         715\n",
      "Emergency Medicine              665\n",
      "Nurse/PA/Technician             610\n",
      "Student                         588\n",
      "Family Medicine                 578\n",
      "Pharmacist                      576\n",
      "Psychiatry and Neurology        526\n",
      "Gastroenterology                504\n",
      "Geriatric Medicine              438\n",
      "Hematology and Oncology         424\n",
      "Obstetrics and Gynecology       411\n",
      "Surgery                         378\n",
      "Ophthalmology                   350\n",
      "Pulmonolgy                      339\n",
      "Radiology                       334\n",
      "Anesthesiology                  285\n",
      "Hospitalist                     284\n",
      "Infectious Disease              252\n",
      "Pediatrics                      206\n",
      "Dermatology                     201\n",
      "Bariatric Medicine              162\n",
      "Pathology                       115\n",
      "Nephrology                      111\n",
      "Endocrinology                   105\n",
      "Physical Therapist               67\n",
      "General Practice                 43\n",
      "Otolaryngology                   35\n",
      "Rheumatology                     30\n",
      "Pain Medicine                    29\n",
      "Allergy and Immunology           28\n",
      "Preventive Medicine              20\n",
      "Nuclear Medicine                 18\n",
      "General Acute Care Hospital      16\n",
      "Sports Medicine                   8\n",
      "Medical Genetics                  4\n",
      "Podiatrist                        4\n",
      "Dentist                           3\n",
      "Legal Medicine                    1\n",
      "Chiropractor                      1\n",
      "Audiologist                       1\n",
      "Name: specialty, dtype: int64\n"
     ]
    }
   ],
   "source": [
    "specialty_list = data['specialty'].unique()\n",
    "print(len(specialty_list))\n",
    "print(data['specialty'].value_counts())"
   ]
  },
  {
   "cell_type": "markdown",
   "metadata": {},
   "source": [
    "This looks a lot cleaner! Let's move onto the next variable, publicationid, which indicates which NewsLetter the receipient receives"
   ]
  },
  {
   "cell_type": "code",
   "execution_count": 143,
   "metadata": {},
   "outputs": [
    {
     "data": {
      "text/plain": [
       "AMA       7310\n",
       "ASHP       688\n",
       "ACC        630\n",
       "ASCO       610\n",
       "CCF        515\n",
       "AGA        419\n",
       "ATS        360\n",
       "ACEP       359\n",
       "AUA        336\n",
       "NAPNAP     294\n",
       "AOA        270\n",
       "APA        264\n",
       "AAD        171\n",
       "ENDO        91\n",
       "ASN         76\n",
       "ACPE        60\n",
       "AMCP        40\n",
       "SEMPA       23\n",
       "MSSNY       17\n",
       "ACRAD       12\n",
       "ASCP        10\n",
       "DIA          1\n",
       "Name: publicationid, dtype: int64"
      ]
     },
     "execution_count": 143,
     "metadata": {},
     "output_type": "execute_result"
    }
   ],
   "source": [
    "data['publicationid'].value_counts()"
   ]
  },
  {
   "cell_type": "markdown",
   "metadata": {},
   "source": [
    "Publicationid seems to be clean. Let's explore 'is_pii_enabled' which indicates whether the recipient allows sharing personal information with advertisers"
   ]
  },
  {
   "cell_type": "code",
   "execution_count": 144,
   "metadata": {},
   "outputs": [
    {
     "data": {
      "text/plain": [
       "b'\\x00'    10093\n",
       "b'\\x01'     2463\n",
       "Name: is_pii_enabled, dtype: int64"
      ]
     },
     "execution_count": 144,
     "metadata": {},
     "output_type": "execute_result"
    }
   ],
   "source": [
    "data['is_pii_enabled'].value_counts()"
   ]
  },
  {
   "cell_type": "markdown",
   "metadata": {},
   "source": [
    "Wow, this one looks bad! Value of 0 in the original dataset meant that PII sharing was not allowed, whereas value of 1 meant it is OK to share the recipient's personal data with advertisers. Let's recode this variable"
   ]
  },
  {
   "cell_type": "code",
   "execution_count": 151,
   "metadata": {},
   "outputs": [
    {
     "data": {
      "text/plain": [
       "0    10093\n",
       "1     2463\n",
       "Name: is_pii_enabled, dtype: int64"
      ]
     },
     "execution_count": 151,
     "metadata": {},
     "output_type": "execute_result"
    }
   ],
   "source": [
    "#data['is_pii_enabled'] = data['is_pii_enabled'].str.split('x',1).str[1]\n",
    "#data['is_pii_enabled'] = data['is_pii_enabled'].str.split(\"'\",1).str[0]\n",
    "data.replace({'is_pii_enabled':{'00': 0, '01':1}}, inplace=True)\n",
    "data['is_pii_enabled'].value_counts()"
   ]
  },
  {
   "cell_type": "markdown",
   "metadata": {},
   "source": [
    "Let's move onto 'hospital_system_membership'. We saw earlier that it was only coded for 'Yes', but not for 'N'. Let's add this value and recode the variable into 1 for 'Yes' and 0 for 'No'"
   ]
  },
  {
   "cell_type": "code",
   "execution_count": 152,
   "metadata": {},
   "outputs": [
    {
     "data": {
      "text/plain": [
       "Y    5738\n",
       "Name: hospital_system_membership, dtype: int64"
      ]
     },
     "execution_count": 152,
     "metadata": {},
     "output_type": "execute_result"
    }
   ],
   "source": [
    "data['hospital_system_membership'].value_counts()"
   ]
  },
  {
   "cell_type": "code",
   "execution_count": 159,
   "metadata": {},
   "outputs": [
    {
     "data": {
      "text/plain": [
       "0.0    6818\n",
       "1.0    5738\n",
       "Name: hospital_system_membership, dtype: int64"
      ]
     },
     "execution_count": 159,
     "metadata": {},
     "output_type": "execute_result"
    }
   ],
   "source": [
    "data['hospital_system_membership'] = data['hospital_system_membership'].astype(object)\n",
    "data.replace({'hospital_system_membership':{'Y':1}}, inplace=True)\n",
    "data['hospital_system_membership'].fillna(0, inplace=True)\n",
    "data['hospital_system_membership'].value_counts()"
   ]
  },
  {
   "cell_type": "markdown",
   "metadata": {},
   "source": [
    "Moving on to the next variable, the state where the hospital in which the doctor works is located."
   ]
  },
  {
   "cell_type": "code",
   "execution_count": 161,
   "metadata": {},
   "outputs": [
    {
     "data": {
      "text/plain": [
       "CO             1052\n",
       "CA              901\n",
       "PA              476\n",
       "FL              464\n",
       "MI              460\n",
       "NH              362\n",
       "AZ              340\n",
       "IL              327\n",
       "NY              324\n",
       "TX              319\n",
       "IN              289\n",
       "OH              254\n",
       "NC              226\n",
       "GA              179\n",
       "NJ              172\n",
       "MA              170\n",
       "VA              159\n",
       "MD              132\n",
       "SC              125\n",
       "TN              122\n",
       "WA              119\n",
       "MN              118\n",
       "MO              115\n",
       "AK              102\n",
       "OK               95\n",
       "WI               93\n",
       "UT               88\n",
       "AL               74\n",
       "KY               72\n",
       "Puerto Rico      68\n",
       "OR               62\n",
       "CT               56\n",
       "IA               50\n",
       "ME               47\n",
       "LA               43\n",
       "WV               25\n",
       "NM               22\n",
       "KS               21\n",
       "HI               19\n",
       "DC               19\n",
       "AR               18\n",
       "RI               16\n",
       "SD               16\n",
       "NE               15\n",
       "WY               14\n",
       "DE               14\n",
       "MS               12\n",
       "NV                7\n",
       "VT                7\n",
       "ND                5\n",
       "ID                3\n",
       "MT                2\n",
       "Name: hospital_state, dtype: int64"
      ]
     },
     "execution_count": 161,
     "metadata": {},
     "output_type": "execute_result"
    }
   ],
   "source": [
    "data['hospital_state'].value_counts()"
   ]
  },
  {
   "cell_type": "markdown",
   "metadata": {},
   "source": [
    "Nothing looks particularly suspicious here, so we can examine the next variable, the size of the hospital where each doctor works."
   ]
  },
  {
   "cell_type": "code",
   "execution_count": 162,
   "metadata": {},
   "outputs": [
    {
     "data": {
      "text/plain": [
       "Medium    3895\n",
       "Large     3198\n",
       "Small     1197\n",
       "Name: hospital_size, dtype: int64"
      ]
     },
     "execution_count": 162,
     "metadata": {},
     "output_type": "execute_result"
    }
   ],
   "source": [
    "data['hospital_size'].value_counts()"
   ]
  },
  {
   "cell_type": "markdown",
   "metadata": {},
   "source": [
    "Hospital size looks OK. Let's move on to the last variable, 'derived_specialty_list'. This gives us additional information about each doctor's specialty. More specifically treatment areas in which doctors works if the specialty is multidisciplinary. The each value in a column represents a set of specialty codes. My assumption is that the more disciplines there are in the set, the more often the doctor will be targeted by different advertisers. Out task here is to transform this variable so that we get the counts of items in each set instead of specific codes."
   ]
  },
  {
   "cell_type": "code",
   "execution_count": 165,
   "metadata": {},
   "outputs": [
    {
     "data": {
      "text/plain": [
       "IM,IMG,MPD,U                1215\n",
       "IM,MPD                       735\n",
       "EM                           295\n",
       "GE,IM,MPD                    285\n",
       "NURSE,NURSE PRACTITIONER     264\n",
       "                            ... \n",
       "PLM,PMD                        1\n",
       "MPD,IM                         1\n",
       "N,RESIDENT                     1\n",
       "PTH,RESIDENT,STUDENT           1\n",
       "HPM,PLM                        1\n",
       "Name: derived_specialty_list, Length: 676, dtype: int64"
      ]
     },
     "execution_count": 165,
     "metadata": {},
     "output_type": "execute_result"
    }
   ],
   "source": [
    "data['derived_specialty_list'].value_counts()"
   ]
  },
  {
   "cell_type": "code",
   "execution_count": null,
   "metadata": {},
   "outputs": [],
   "source": [
    "We'll count subspecialties in each set by counting commas in that set and then adding 1 to the number of commas:"
   ]
  },
  {
   "cell_type": "code",
   "execution_count": 168,
   "metadata": {},
   "outputs": [
    {
     "name": "stdout",
     "output_type": "stream",
     "text": [
      "0        0.0\n",
      "1        0.0\n",
      "2        1.0\n",
      "3        1.0\n",
      "4        1.0\n",
      "        ... \n",
      "12554    1.0\n",
      "12555    0.0\n",
      "12556    1.0\n",
      "12557    0.0\n",
      "12558    0.0\n",
      "Name: comma_count, Length: 12556, dtype: float64\n",
      "0        1.0\n",
      "1        1.0\n",
      "2        2.0\n",
      "3        2.0\n",
      "4        2.0\n",
      "        ... \n",
      "12554    2.0\n",
      "12555    1.0\n",
      "12556    2.0\n",
      "12557    1.0\n",
      "12558    1.0\n",
      "Name: sub_specialty_count, Length: 12556, dtype: float64\n"
     ]
    },
    {
     "data": {
      "text/plain": [
       "2.0     3003\n",
       "4.0     2796\n",
       "3.0     2385\n",
       "1.0     2294\n",
       "5.0      595\n",
       "6.0      421\n",
       "8.0      155\n",
       "7.0       57\n",
       "9.0        9\n",
       "11.0       7\n",
       "10.0       3\n",
       "Name: sub_specialty_count, dtype: int64"
      ]
     },
     "execution_count": 168,
     "metadata": {},
     "output_type": "execute_result"
    }
   ],
   "source": [
    "data['comma_count'] = data['derived_specialty_list'].str.count(',')\n",
    "print(data['comma_count'])\n",
    "data['sub_specialty_count'] = data['comma_count'] +1\n",
    "print (data['sub_specialty_count'])\n",
    "data['sub_specialty_count'].value_counts()"
   ]
  },
  {
   "cell_type": "code",
   "execution_count": 170,
   "metadata": {},
   "outputs": [],
   "source": [
    "data.drop(['comma_count'], axis=1,inplace=True)"
   ]
  },
  {
   "cell_type": "markdown",
   "metadata": {},
   "source": [
    "We've dropped the column we no longer need. Let's save the cleaned dataset."
   ]
  },
  {
   "cell_type": "code",
   "execution_count": 171,
   "metadata": {},
   "outputs": [],
   "source": [
    "data.to_csv('C:/Users/emich/Google Drive/Data science/Capstone 3/Data/Data_Cleaned.csv')"
   ]
  },
  {
   "cell_type": "code",
   "execution_count": null,
   "metadata": {},
   "outputs": [],
   "source": []
  }
 ],
 "metadata": {
  "kernelspec": {
   "display_name": "Python 3",
   "language": "python",
   "name": "python3"
  },
  "language_info": {
   "codemirror_mode": {
    "name": "ipython",
    "version": 3
   },
   "file_extension": ".py",
   "mimetype": "text/x-python",
   "name": "python",
   "nbconvert_exporter": "python",
   "pygments_lexer": "ipython3",
   "version": "3.7.6"
  }
 },
 "nbformat": 4,
 "nbformat_minor": 4
}
